{
 "cells": [
  {
   "cell_type": "markdown",
   "metadata": {
    "application/vnd.databricks.v1+cell": {
     "cellMetadata": {
      "byteLimit": 2048000,
      "rowLimit": 10000
     },
     "inputWidgets": {},
     "nuid": "fdf1e287-fd84-4047-ae32-7a6ac47c53c6",
     "showTitle": false,
     "title": ""
    }
   },
   "source": [
    "## Creates dim_station dimension\n"
   ]
  },
  {
   "cell_type": "markdown",
   "metadata": {
    "application/vnd.databricks.v1+cell": {
     "cellMetadata": {
      "byteLimit": 2048000,
      "rowLimit": 10000
     },
     "inputWidgets": {},
     "nuid": "7a1573bf-a929-4135-b77b-c338880bf36b",
     "showTitle": false,
     "title": ""
    }
   },
   "source": [
    "Remove old dim_rider delta files in the gold storage to satisfy overwrite requirements"
   ]
  },
  {
   "cell_type": "code",
   "execution_count": 0,
   "metadata": {
    "application/vnd.databricks.v1+cell": {
     "cellMetadata": {
      "byteLimit": 2048000,
      "rowLimit": 10000
     },
     "inputWidgets": {},
     "nuid": "4acbbe28-09b2-443e-97e3-58ee15e571ca",
     "showTitle": false,
     "title": ""
    }
   },
   "outputs": [
    {
     "output_type": "display_data",
     "data": {
      "text/html": [
       "<style scoped>\n",
       "  .ansiout {\n",
       "    display: block;\n",
       "    unicode-bidi: embed;\n",
       "    white-space: pre-wrap;\n",
       "    word-wrap: break-word;\n",
       "    word-break: break-all;\n",
       "    font-family: \"Menlo\", \"Monaco\", \"Consolas\", \"Ubuntu Mono\", \"Source Code Pro\", monospace;\n",
       "    font-size: 13px;\n",
       "    color: #555;\n",
       "    margin-left: 4px;\n",
       "    line-height: 19px;\n",
       "  }\n",
       "</style>\n",
       "<div class=\"ansiout\">res1: Boolean = false\n",
       "</div>"
      ]
     },
     "metadata": {
      "application/vnd.databricks.v1+output": {
       "addedWidgets": {},
       "arguments": {},
       "data": "<div class=\"ansiout\">res1: Boolean = false\n</div>",
       "datasetInfos": [],
       "metadata": {
        "isDbfsCommandResult": false
       },
       "removedWidgets": [],
       "type": "html"
      }
     },
     "output_type": "display_data"
    }
   ],
   "source": [
    "%fs rm -r lakehouse/gold/dim_station"
   ]
  },
  {
   "cell_type": "code",
   "execution_count": 0,
   "metadata": {
    "application/vnd.databricks.v1+cell": {
     "cellMetadata": {
      "byteLimit": 2048000,
      "rowLimit": 10000
     },
     "inputWidgets": {},
     "nuid": "5b087c88-750d-4a7c-9675-ce6d3f4457ac",
     "showTitle": false,
     "title": ""
    }
   },
   "outputs": [],
   "source": [
    "df = spark.sql(''' \n",
    "        SELECT \n",
    "            station_id, \n",
    "            name\n",
    "        FROM \n",
    "            silver_stations\n",
    "           ''')"
   ]
  },
  {
   "cell_type": "code",
   "execution_count": 0,
   "metadata": {
    "application/vnd.databricks.v1+cell": {
     "cellMetadata": {
      "byteLimit": 2048000,
      "rowLimit": 10000
     },
     "inputWidgets": {},
     "nuid": "95dcfb65-ec0e-49b3-96cb-b4162b5d0744",
     "showTitle": false,
     "title": ""
    }
   },
   "outputs": [
    {
     "output_type": "stream",
     "name": "stdout",
     "output_type": "stream",
     "text": [
      "root\n |-- station_id: string (nullable = true)\n |-- name: string (nullable = true)\n\n"
     ]
    }
   ],
   "source": [
    "df.printSchema()"
   ]
  },
  {
   "cell_type": "code",
   "execution_count": 0,
   "metadata": {
    "application/vnd.databricks.v1+cell": {
     "cellMetadata": {
      "byteLimit": 2048000,
      "rowLimit": 10000
     },
     "inputWidgets": {},
     "nuid": "e9460c46-8f83-4cc9-a7a8-5fbfd8355685",
     "showTitle": false,
     "title": ""
    }
   },
   "outputs": [],
   "source": [
    "df.write.format('delta').mode('overwrite').save(\"/lakehouse/gold/dim_station\")"
   ]
  },
  {
   "cell_type": "code",
   "execution_count": 0,
   "metadata": {
    "application/vnd.databricks.v1+cell": {
     "cellMetadata": {
      "byteLimit": 2048000,
      "rowLimit": 10000
     },
     "inputWidgets": {},
     "nuid": "fd18d931-36d5-498d-aaac-b8fd737eaebd",
     "showTitle": false,
     "title": ""
    }
   },
   "outputs": [],
   "source": [
    "spark.read.format(\"delta\").load(\"/lakehouse/gold/dim_station\").write.format(\"delta\").mode(\"overwrite\").saveAsTable(\"dim_station\")"
   ]
  },
  {
   "cell_type": "code",
   "execution_count": 0,
   "metadata": {
    "application/vnd.databricks.v1+cell": {
     "cellMetadata": {
      "byteLimit": 2048000,
      "rowLimit": 10000
     },
     "inputWidgets": {},
     "nuid": "07ec09d2-0f6f-47b4-9ee5-0aad5ed17e25",
     "showTitle": false,
     "title": ""
    }
   },
   "outputs": [
    {
     "output_type": "display_data",
     "data": {
      "text/html": [
       "<style scoped>\n",
       "  .table-result-container {\n",
       "    max-height: 300px;\n",
       "    overflow: auto;\n",
       "  }\n",
       "  table, th, td {\n",
       "    border: 1px solid black;\n",
       "    border-collapse: collapse;\n",
       "  }\n",
       "  th, td {\n",
       "    padding: 5px;\n",
       "  }\n",
       "  th {\n",
       "    text-align: left;\n",
       "  }\n",
       "</style><div class='table-result-container'><table class='table-result'><thead style='background-color: white'><tr><th>station_id</th><th>name</th></tr></thead><tbody><tr><td>525</td><td>Glenwood Ave & Touhy Ave</td></tr><tr><td>KA1503000012</td><td>Clark St & Lake St</td></tr><tr><td>637</td><td>Wood St & Chicago Ave</td></tr><tr><td>13216</td><td>State St & 33rd St</td></tr><tr><td>18003</td><td>Fairbanks St & Superior St</td></tr><tr><td>KP1705001026</td><td>LaSalle Dr & Huron St</td></tr><tr><td>13253</td><td>Lincoln Ave & Waveland Ave</td></tr><tr><td>KA1503000044</td><td>Rush St & Hubbard St</td></tr><tr><td>KA1504000140</td><td>Winchester Ave & Elston Ave</td></tr><tr><td>TA1305000032</td><td>Clinton St & Madison St</td></tr><tr><td>TA1306000012</td><td>Wells St & Huron St</td></tr><tr><td>13133</td><td>Damen Ave & Cortland St</td></tr><tr><td>SL-005</td><td>Indiana Ave & Roosevelt Rd</td></tr><tr><td>13235</td><td>Southport Ave & Waveland Ave</td></tr><tr><td>TA1307000139</td><td>MLK Jr Dr & 29th St</td></tr><tr><td>TA1305000009</td><td>Clark St & Ida B Wells Dr</td></tr><tr><td>13276</td><td>Stockton Dr & Wrightwood Ave</td></tr><tr><td>TA1307000107</td><td>Sheridan Rd & Montrose Ave</td></tr><tr><td>13193</td><td>Larrabee St & Webster Ave</td></tr><tr><td>KA1503000072</td><td>Wacker Dr & Washington St</td></tr><tr><td>TA1307000166</td><td>Halsted St & Willow St</td></tr><tr><td>13285</td><td>Wood St & Taylor St (Temp)</td></tr><tr><td>TA1306000016</td><td>Sheffield Ave & Fullerton Ave</td></tr><tr><td>13303</td><td>Clark St & Chicago Ave</td></tr><tr><td>15575</td><td>Broadway & Thorndale Ave</td></tr><tr><td>623</td><td>Michigan Ave & 8th St</td></tr><tr><td>TA1309000050</td><td>Lincoln Ave & Addison St</td></tr><tr><td>15445</td><td>Wentworth Ave & 33rd St</td></tr><tr><td>13164</td><td>Racine Ave & 18th St</td></tr><tr><td>TA1307000151</td><td>Wells St & Hubbard St</td></tr><tr><td>13158</td><td>Peoria St & Jackson Blvd</td></tr><tr><td>13150</td><td>Michigan Ave & 18th St</td></tr><tr><td>TA1308000036</td><td>Indiana Ave & 31st St</td></tr><tr><td>TA1308000013</td><td>Halsted St & Archer Ave</td></tr><tr><td>TA1306000013</td><td>New St & Illinois St</td></tr><tr><td>13061</td><td>Ashland Ave & Division St</td></tr><tr><td>TA1307000048</td><td>Fort Dearborn Dr & 31st St</td></tr><tr><td>TA1308000045</td><td>Wallace St & 35th St</td></tr><tr><td>13206</td><td>Loomis St & Jackson Blvd</td></tr><tr><td>13156</td><td>Aberdeen St & Monroe St</td></tr><tr><td>TA1306000015</td><td>Morgan St & Lake St</td></tr><tr><td>13058</td><td>Dayton St & North Ave</td></tr><tr><td>TA1309000008</td><td>Franklin St & Adams St (Temp)</td></tr><tr><td>KA1504000135</td><td>Wells St & Elm St</td></tr><tr><td>KA1503000064</td><td>Dusable Harbor</td></tr><tr><td>TA1305000022</td><td>Orleans St & Merchandise Mart Plaza</td></tr><tr><td>KA1504000079</td><td>Larrabee St & Division St</td></tr><tr><td>KA1503000022</td><td>Clark St & Montrose Ave</td></tr><tr><td>13109</td><td>Broadway & Berwyn Ave</td></tr><tr><td>15530</td><td>Rush St & Superior St</td></tr><tr><td>TA1306000010</td><td>Daley Center Plaza</td></tr><tr><td>13146</td><td>Clark St & Armitage Ave</td></tr><tr><td>15578</td><td>Broadway & Ridge Ave</td></tr><tr><td>KA1503000034</td><td>LaSalle St & Adams St</td></tr><tr><td>KA1503000059</td><td>Lake Park Ave & 53rd St</td></tr><tr><td>TA1305000011</td><td>Michigan Ave & Lake St</td></tr><tr><td>TA1307000061</td><td>State St & Pearson St</td></tr><tr><td>SL-011</td><td>Wells St & Polk St</td></tr><tr><td>TA1309000010</td><td>Wabash Ave & 9th St</td></tr><tr><td>15534</td><td>Field Blvd & South Water St</td></tr><tr><td>TA1307000119</td><td>Clarendon Ave & Leland Ave</td></tr><tr><td>TA1305000029</td><td>State St & Randolph St</td></tr><tr><td>TA1309000063</td><td>Lake Park Ave & 56th St</td></tr><tr><td>KA1504000133</td><td>Rush St & Cedar St</td></tr><tr><td>624</td><td>Dearborn St & Van Buren St</td></tr><tr><td>KA1503000029</td><td>South Shore Dr & 67th St</td></tr><tr><td>13323</td><td>Broadway & Sheridan Rd</td></tr><tr><td>KA1504000149</td><td>Damen Ave & Foster Ave</td></tr><tr><td>TA1309000004</td><td>LaSalle St & Jackson Blvd</td></tr><tr><td>18058</td><td>Leavitt St & Chicago Ave</td></tr><tr><td>WL-008</td><td>Clinton St & Roosevelt Rd</td></tr><tr><td>13221</td><td>Wood St & Milwaukee Ave</td></tr><tr><td>523</td><td>Eastlake Ter & Rogers Ave</td></tr><tr><td>TA1309000025</td><td>Halsted St & Roscoe St</td></tr><tr><td>13288</td><td>Damen Ave & Charleston St</td></tr><tr><td>658</td><td>Leavitt St & Division St</td></tr><tr><td>TA1307000070</td><td>Damen Ave & Thomas St (Augusta Blvd)</td></tr><tr><td>TA1305000041</td><td>Damen Ave & Pierce Ave</td></tr><tr><td>13268</td><td>Damen Ave & Wellington Ave</td></tr><tr><td>15667</td><td>Western Ave & Monroe St</td></tr><tr><td>13084</td><td>California Ave & Milwaukee Ave</td></tr><tr><td>15655</td><td>Albany Ave & Bloomingdale Ave</td></tr><tr><td>17660</td><td>California Ave & Cortez St</td></tr><tr><td>15651</td><td>Humboldt Blvd & Armitage Ave</td></tr><tr><td>KA1504000146</td><td>Clark St & Berwyn Ave</td></tr><tr><td>KA1504000151</td><td>Clark St & Bryn Mawr Ave</td></tr><tr><td>KA1503000041</td><td>McClurg Ct & Erie St</td></tr><tr><td>TA1308000046</td><td>Morgan St & 31st St</td></tr><tr><td>13266</td><td>Stave St & Armitage Ave</td></tr><tr><td>TA1307000124</td><td>Michigan Ave & 14th St</td></tr><tr><td>13196</td><td>Carpenter St & Huron St</td></tr><tr><td>TA1306000029</td><td>Lake Shore Dr & Ohio St</td></tr><tr><td>TA1307000052</td><td>Sheffield Ave & Wellington Ave</td></tr><tr><td>13021</td><td>Clinton St & Lake St</td></tr><tr><td>TA1305000002</td><td>Wabash Ave & Roosevelt Rd</td></tr><tr><td>KA1504000116</td><td>Larrabee St & Oak St</td></tr><tr><td>TA1305000025</td><td>Franklin St & Jackson Blvd</td></tr><tr><td>TA1305000034</td><td>Honore St & Division St</td></tr><tr><td>15644</td><td>Central Park Ave & Elbridge Ave</td></tr><tr><td>TA1309000030</td><td>Southport Ave & Clybourn Ave</td></tr><tr><td>13432</td><td>Wood St & Hubbard St</td></tr><tr><td>TA1308000049</td><td>Wells St & Evergreen Ave</td></tr><tr><td>KA1504000117</td><td>Halsted St & North Branch St</td></tr><tr><td>RP-007</td><td>Clark St & Touhy Ave</td></tr><tr><td>15529</td><td>Mies van der Rohe Way & Chestnut St</td></tr><tr><td>SL-008</td><td>Federal St & Polk St</td></tr><tr><td>TA1307000005</td><td>Indiana Ave & 26th St</td></tr><tr><td>13068</td><td>Western Ave & Winnebago Ave</td></tr><tr><td>TA1307000039</td><td>Clark St & Elm St</td></tr><tr><td>13045</td><td>Dearborn St & Erie St</td></tr><tr><td>SL-012</td><td>Wabash Ave & 16th St</td></tr><tr><td>TA1307000117</td><td>Wabash Ave & Grand Ave</td></tr><tr><td>15654</td><td>Spaulding Ave & Division St</td></tr><tr><td>13263</td><td>Columbus Dr & Randolph St</td></tr><tr><td>13247</td><td>Ashland Ave & Chicago Ave</td></tr><tr><td>13132</td><td>Damen Ave & Chicago Ave</td></tr><tr><td>TA1308000006</td><td>Damen Ave & Grand Ave</td></tr><tr><td>KA1503000069</td><td>Dorchester Ave & 49th St</td></tr><tr><td>15623</td><td>Campbell Ave & Montrose Ave</td></tr><tr><td>13006</td><td>LaSalle St & Washington St</td></tr><tr><td>15550</td><td>Canal St & Taylor St</td></tr><tr><td>13016</td><td>St. Clair St & Erie St</td></tr><tr><td>TA1308000021</td><td>Winthrop Ave & Lawrence Ave</td></tr><tr><td>LF-005</td><td>Lake Shore Dr & North Blvd</td></tr><tr><td>TA1309000002</td><td>Michigan Ave & Jackson Blvd</td></tr><tr><td>TA1305000037</td><td>Paulina Ave & North Ave</td></tr><tr><td>15541</td><td>Buckingham Fountain</td></tr><tr><td>13022</td><td>Streeter Dr & Grand Ave</td></tr><tr><td>KA1706005007</td><td>Delano Ct & Roosevelt Rd</td></tr><tr><td>TA1308000001</td><td>Theater on the Lake</td></tr><tr><td>13294</td><td>Greenview Ave & Diversey Pkwy</td></tr><tr><td>15542</td><td>Clinton St & Polk St</td></tr><tr><td>13245</td><td>Claremont Ave & Hirsch St</td></tr><tr><td>13001</td><td>Michigan Ave & Washington St</td></tr><tr><td>TA1309000042</td><td>Lincoln Ave & Belmont Ave</td></tr><tr><td>13033</td><td>Milwaukee Ave & Grand Ave</td></tr><tr><td>TA1309000024</td><td>Clark St & Schiller St</td></tr><tr><td>13265</td><td>Kingsbury St & Erie St</td></tr><tr><td>13071</td><td>Southport Ave & Roscoe St</td></tr><tr><td>13085</td><td>Kedzie Ave & Milwaukee Ave</td></tr><tr><td>KA1504000090</td><td>St. Louis Ave & Fullerton Ave</td></tr><tr><td>535</td><td>Pulaski Rd & Congress Pkwy</td></tr><tr><td>13277</td><td>Broadway & Belmont Ave</td></tr><tr><td>KA1504000152</td><td>Lakefront Trail & Bryn Mawr Ave</td></tr><tr><td>TA1309000058</td><td>Lincoln Ave & Fullerton Ave</td></tr><tr><td>16994</td><td>Kilbourn Ave & Milwaukee Ave</td></tr><tr><td>13278</td><td>Broadway & Cornelia Ave</td></tr><tr><td>E002</td><td>Chicago Ave & Washington St</td></tr><tr><td>KA1504000080</td><td>Washtenaw Ave & Lawrence Ave</td></tr><tr><td>TA1308000022</td><td>Pine Grove Ave & Irving Park Rd</td></tr><tr><td>TA1309000027</td><td>Sheridan Rd & Buena Ave</td></tr><tr><td>KA1504000155</td><td>2112 W Peterson Ave</td></tr><tr><td>TA1305000014</td><td>Clark St & Wrightwood Ave</td></tr><tr><td>TA1308000031</td><td>Logan Blvd & Elston Ave</td></tr><tr><td>KA1504000164</td><td>Keystone Ave & Montrose Ave</td></tr><tr><td>15640</td><td>Avers Ave & Belmont Ave</td></tr><tr><td>620</td><td>Orleans St & Chestnut St (NEXT Apts)</td></tr><tr><td>TA1309000061</td><td>Halsted St & Wrightwood Ave</td></tr><tr><td>TA1308000050</td><td>Wells St & Concord Ln</td></tr><tr><td>13379</td><td>Clarendon Ave & Gordon Ter</td></tr><tr><td>13389</td><td>Clarendon Ave & Junior Ter</td></tr><tr><td>KA1504000161</td><td>St. Louis Ave & Balmoral Ave</td></tr><tr><td>TA1307000149</td><td>Ravenswood Ave & Irving Park Rd</td></tr><tr><td>13224</td><td>Ashland Ave & Blackhawk St</td></tr><tr><td>TA1306000009</td><td>Larrabee St & Kingsbury St</td></tr><tr><td>605</td><td>University Library (NU)</td></tr><tr><td>KA1504000134</td><td>Ritchie Ct & Banks St</td></tr><tr><td>KA1503000007</td><td>Cornell Ave & Hyde Park Blvd</td></tr><tr><td>520</td><td>Greenview Ave & Jarvis Ave</td></tr><tr><td>13144</td><td>Seeley Ave & Roscoe St</td></tr><tr><td>517</td><td>Clark St & Jarvis Ave</td></tr><tr><td>638</td><td>Clinton St & Jackson Blvd</td></tr><tr><td>KA1503000070</td><td>Harper Ave & 59th St</td></tr><tr><td>13197</td><td>Elizabeth (May) St & Fulton St</td></tr><tr><td>13191</td><td>Sedgwick St & Webster Ave</td></tr><tr><td>KA1504000175</td><td>Glenwood Ave & Morse Ave</td></tr><tr><td>13008</td><td>Millennium Park</td></tr><tr><td>TA1307000006</td><td>Southport Ave & Wellington Ave</td></tr><tr><td>13338</td><td>Mies van der Rohe Way & Chicago Ave</td></tr><tr><td>13011</td><td>Canal St & Adams St</td></tr><tr><td>KA1504000159</td><td>Sheridan Rd & Greenleaf Ave</td></tr><tr><td>13292</td><td>Kedzie Ave & Palmer Ct</td></tr><tr><td>RN-</td><td>Franklin St & Illinois St</td></tr><tr><td>13256</td><td>California Ave & Division St</td></tr><tr><td>TA1308000029</td><td>Stetson Ave & South Water St</td></tr><tr><td>15491</td><td>63rd St Beach</td></tr><tr><td>TA1309000021</td><td>Paulina St & Montrose Ave</td></tr><tr><td>13354</td><td>Ashland Ave & 13th St</td></tr><tr><td>TA1307000159</td><td>Paulina St & 18th St</td></tr><tr><td>TA1309000037</td><td>Kimbark Ave & 53rd St</td></tr><tr><td>KA1504000158</td><td>Oakley Ave & Irving Park Rd</td></tr><tr><td>13332</td><td>Loomis St & Lexington St</td></tr><tr><td>TA1308000005</td><td>Leavitt St & North Ave</td></tr><tr><td>TA1307000138</td><td>Lincoln Ave & Roscoe St</td></tr><tr><td>KA1503000040</td><td>Loomis St & Archer Ave</td></tr><tr><td>TA1307000134</td><td>Wilton Ave & Belmont Ave</td></tr><tr><td>13136</td><td>Damen Ave & Division St</td></tr><tr><td>TA1308000035</td><td>Lake Park Ave & 47th St</td></tr><tr><td>TA1309000029</td><td>Leavitt St & Armitage Ave</td></tr><tr><td>13154</td><td>Sheffield Ave & Kingsbury St</td></tr><tr><td>13135</td><td>Blue Island Ave & 18th St</td></tr><tr><td>13096</td><td>California Ave & 21st St</td></tr><tr><td>TA1309000012</td><td>Damen Ave & Sunnyside Ave</td></tr><tr><td>13304</td><td>Racine Ave & 15th St</td></tr><tr><td>KA1504000076</td><td>Ellis Ave & 55th St</td></tr><tr><td>SL-007</td><td>State St & Harrison St</td></tr><tr><td>657</td><td>Wood St & Augusta Blvd</td></tr><tr><td>TA1309000018</td><td>Ravenswood Ave & Berteau Ave</td></tr><tr><td>13029</td><td>Field Museum</td></tr><tr><td>TA1306000002</td><td>Morgan Ave & 14th Pl</td></tr><tr><td>TA1309000035</td><td>Clark St & Winnemac Ave</td></tr><tr><td>13307</td><td>Laflin St & Cullerton St</td></tr><tr><td>643</td><td>Smith Park</td></tr><tr><td>13325</td><td>Broadway & Waveland Ave</td></tr><tr><td>TA1305000039</td><td>Marshfield Ave & Cortland St</td></tr><tr><td>TA1307000144</td><td>Wolcott (Ravenswood) Ave & Montrose Ave</td></tr><tr><td>18062</td><td>Aberdeen St & Randolph St</td></tr><tr><td>13073</td><td>Ashland Ave & Lake St</td></tr><tr><td>TA1309000026</td><td>Lincoln Ave & Belle Plaine Ave</td></tr><tr><td>15621</td><td>Albany Ave & Montrose Ave</td></tr><tr><td>TA1308000009</td><td>Shore Dr & 55th St</td></tr><tr><td>TA1307000044</td><td>Clinton St & 18th St</td></tr><tr><td>13143</td><td>Damen Ave & Melrose Ave</td></tr><tr><td>20121</td><td>Loomis Blvd & 84th St</td></tr><tr><td>TA1309000007</td><td>Franklin St & Monroe St</td></tr><tr><td>KA1504000127</td><td>Manor Ave & Leland Ave</td></tr><tr><td>13063</td><td>Sheridan Rd & Irving Park Rd</td></tr><tr><td>TA1307000150</td><td>Pine Grove Ave & Waveland Ave</td></tr><tr><td>13341</td><td>Canal St & Madison St</td></tr><tr><td>13179</td><td>Clark St & Lincoln Ave</td></tr><tr><td>13296</td><td>Ashland Ave & Wrightwood Ave</td></tr><tr><td>TA1309000023</td><td>Sheffield Ave & Wrightwood Ave</td></tr><tr><td>13108</td><td>Broadway & Argyle St</td></tr><tr><td>TA1307000142</td><td>Clark St & Drummond Pl</td></tr><tr><td>TA1309000039</td><td>Lake Shore Dr & Diversey Pkwy</td></tr><tr><td>TA1309000043</td><td>Southport Ave & Irving Park Rd</td></tr><tr><td>KA17018054</td><td>Damen Ave & Walnut (Lake) St</td></tr><tr><td>SL-006</td><td>Wells St & 19th St</td></tr><tr><td>13192</td><td>Halsted St & Dickens Ave</td></tr><tr><td>TA1308000014</td><td>Normal Ave & Archer Ave</td></tr><tr><td>331</td><td>Halsted St & Clybourn Ave</td></tr><tr><td>TA1307000158</td><td>Damen Ave & Leland Ave</td></tr><tr><td>13128</td><td>Clark St & North Ave</td></tr><tr><td>TA1305000005</td><td>Dearborn St & Adams St</td></tr><tr><td>TA1306000014</td><td>Wilton Ave & Diversey Pkwy</td></tr><tr><td>TA1307000131</td><td>Wabash Ave & Wacker Pl</td></tr><tr><td>TA1306000032</td><td>Sheffield Ave & Willow St</td></tr><tr><td>KA1504000082</td><td>Kedzie Ave & Harrison St</td></tr><tr><td>SL-009</td><td>Clark St & 9th St (AMLI)</td></tr><tr><td>TA1307000041</td><td>Lake Shore Dr & Wellington Ave</td></tr><tr><td>TA1309000019</td><td>Lakeview Ave & Fullerton Pkwy</td></tr><tr><td>13137</td><td>Broadway & Barry Ave</td></tr><tr><td>13434</td><td>Ashland Ave & Grand Ave</td></tr><tr><td>TA1307000126</td><td>Sheffield Ave & Waveland Ave</td></tr><tr><td>13194</td><td>Ogden Ave & Race Ave</td></tr><tr><td>13017</td><td>Franklin St & Chicago Ave</td></tr><tr><td>TA1307000140</td><td>Western Ave & Leland Ave</td></tr><tr><td>15622</td><td>California Ave & Montrose Ave</td></tr><tr><td>13430</td><td>LaSalle St & Illinois St</td></tr><tr><td>KA1503000002</td><td>South Shore Dr & 71st St</td></tr><tr><td>TA1305000003</td><td>Fairbanks Ct & Grand Ave</td></tr><tr><td>13431</td><td>Adler Planetarium</td></tr><tr><td>TA1307000120</td><td>Green St & Madison St</td></tr><tr><td>WL-012</td><td>Clinton St & Washington Blvd</td></tr><tr><td>18069</td><td>Cherry Ave & Blackhawk St</td></tr><tr><td>TA1309000067</td><td>Cottage Grove Ave & 51st St</td></tr><tr><td>KA1504000097</td><td>Drake Ave & Montrose Ave</td></tr><tr><td>15571</td><td>Broadway & Granville Ave</td></tr><tr><td>15689</td><td>California Ave & 23rd Pl</td></tr><tr><td>TA1307000064</td><td>Lincoln Ave & Diversey Pkwy</td></tr><tr><td>KA1503000047</td><td>Perry Ave & 69th St</td></tr><tr><td>13102</td><td>Calumet Ave & 18th St</td></tr><tr><td>TA1307000111</td><td>Franklin St & Lake St</td></tr><tr><td>13056</td><td>Canal St & Monroe St</td></tr><tr><td>13036</td><td>Michigan Ave & Madison St</td></tr><tr><td>13427</td><td>Cityfront Plaza Dr & Pioneer Ct</td></tr><tr><td>SL-010</td><td>Financial Pl & Ida B Wells Dr</td></tr><tr><td>18067</td><td>Walsh Park</td></tr><tr><td>13398</td><td>Blackstone Ave & Hyde Park Blvd</td></tr><tr><td>13353</td><td>Ada St & Washington Blvd</td></tr><tr><td>TA1305000006</td><td>Dearborn St & Monroe St</td></tr><tr><td>TA1309000036</td><td>Burling St & Diversey Pkwy</td></tr><tr><td>TA1305000030</td><td>Clark St & Randolph St</td></tr><tr><td>TA1305000010</td><td>Michigan Ave & Ida B Wells Dr</td></tr><tr><td>TA1306000026</td><td>Racine Ave & Fullerton Ave</td></tr><tr><td>654</td><td>Racine Ave & Washington Blvd</td></tr><tr><td>TA1308000019</td><td>Racine Ave & Belmont Ave</td></tr><tr><td>13165</td><td>Racine Ave & 13th St</td></tr><tr><td>13409</td><td>Sangamon St & Washington Blvd</td></tr><tr><td>WL-011</td><td>Jefferson St & Monroe St</td></tr><tr><td>15646</td><td>California Ave & Altgeld St</td></tr><tr><td>KA1504000104</td><td>Paulina St & Flournoy St</td></tr><tr><td>13300</td><td>Lake Shore Dr & Monroe St</td></tr><tr><td>13269</td><td>Ashland Ave & Wellington Ave</td></tr><tr><td>TA1308000026</td><td>Wentworth Ave & 24th St (Temp)</td></tr><tr><td>644</td><td>Western Ave & Fillmore St</td></tr><tr><td>15650</td><td>Spaulding Ave & Armitage Ave</td></tr><tr><td>TA1307000113</td><td>Southport Ave & Wrightwood Ave</td></tr><tr><td>TA1307000128</td><td>Dearborn Pkwy & Delaware Pl</td></tr><tr><td>TA1306000008</td><td>Larrabee St & North Ave</td></tr><tr><td>636</td><td>Orleans St & Hubbard St</td></tr><tr><td>TA1307000143</td><td>Sedgwick St & Schiller St</td></tr><tr><td>KA150400009X</td><td>Kimball Ave & Belmont Ave</td></tr><tr><td>TA1307000130</td><td>Morgan St & Polk St</td></tr><tr><td>18016</td><td>Bernard St & Elston Ave</td></tr><tr><td>TA1307000062</td><td>Sedgwick St & Huron St</td></tr><tr><td>LP-</td><td>Lincoln Park Conservatory</td></tr><tr><td>13050</td><td>State St & Kinzie St</td></tr><tr><td>13243</td><td>Milwaukee Ave & Wabansia Ave</td></tr><tr><td>E011</td><td>Dodge Ave & Main St</td></tr><tr><td>KA1503000014</td><td>Ellis Ave & 60th St</td></tr><tr><td>RP-009</td><td>Sheridan Rd & Loyola Ave</td></tr><tr><td>KA1504000129</td><td>Western Ave & Granville Ave</td></tr><tr><td>13138</td><td>Canal St & Jackson Blvd</td></tr><tr><td>KA1503000052</td><td>Ellis Ave & 53rd St</td></tr><tr><td>18017</td><td>Central Park Ave & Bloomingdale Ave</td></tr><tr><td>TA1309000032</td><td>Elston Ave & Wabansia Ave</td></tr><tr><td>TA1307000160</td><td>Prairie Ave & Garfield Blvd</td></tr><tr><td>15632</td><td>Talman Ave & Addison St</td></tr><tr><td>15545</td><td>Burnham Harbor</td></tr><tr><td>20239</td><td>Marquette Ave & 89th St</td></tr><tr><td>TA1308000002</td><td>Greenwood Ave & 47th St</td></tr><tr><td>TA1309000049</td><td>Lake Shore Dr & Belmont Ave</td></tr><tr><td>13289</td><td>Eckhart Park</td></tr><tr><td>TA1307000121</td><td>Halsted St & Polk St</td></tr><tr><td>13139</td><td>Throop St & Taylor St</td></tr><tr><td>13053</td><td>Green St & Randolph St</td></tr><tr><td>632</td><td>Clark St & Newport St</td></tr><tr><td>536</td><td>Kostner Ave & Lake St</td></tr><tr><td>13271</td><td>Damen Ave & Clybourn Ave</td></tr><tr><td>13034</td><td>Michigan Ave & Pearson St</td></tr><tr><td>TA1307000001</td><td>Greenview Ave & Fullerton Ave</td></tr><tr><td>13290</td><td>Noble St & Milwaukee Ave</td></tr><tr><td>TA1307000115</td><td>Clybourn Ave & Division St</td></tr><tr><td>Hubbard Bike-checking (LBS-WH-TEST)</td><td>Base - 2132 W Hubbard Warehouse</td></tr><tr><td>15652</td><td>Central Park Ave & North Ave</td></tr><tr><td>KA1503000015</td><td>Wabash Ave & Adams St</td></tr><tr><td>TA1307000066</td><td>Damen Ave & Coulter St</td></tr><tr><td>KA1504000162</td><td>Clark St & Lunt Ave</td></tr><tr><td>TA1305000035</td><td>State St & Van Buren St</td></tr><tr><td>15443</td><td>Shields Ave & 28th Pl</td></tr><tr><td>13059</td><td>Bissell St & Armitage Ave</td></tr><tr><td>KA1503000038</td><td>Shields Ave & 31st St</td></tr><tr><td>KA1503000066</td><td>Wood St & 35th St</td></tr><tr><td>TA1307000163</td><td>Clifton Ave & Armitage Ave</td></tr><tr><td>TA1309000001</td><td>Halsted St & Maxwell St</td></tr><tr><td>TA1309000055</td><td>Emerald Ave & 31st St</td></tr><tr><td>514</td><td>Ridge Blvd & Howard St</td></tr><tr><td>KA1504000103</td><td>Western Ave & Walton St</td></tr><tr><td>15535</td><td>Desplaines St & Randolph St</td></tr><tr><td>TA1307000153</td><td>Emerald Ave & 28th St</td></tr><tr><td>13217</td><td>Calumet Ave & 33rd St</td></tr><tr><td>15446</td><td>Racine Ave & 35th St</td></tr><tr><td>13160</td><td>May St & Taylor St</td></tr><tr><td>KA1503000043</td><td>Kingsbury St & Kinzie St</td></tr><tr><td>TA1306000003</td><td>Desplaines St & Kinzie St</td></tr><tr><td>15442</td><td>Ashland Ave & Archer Ave</td></tr><tr><td>15539</td><td>Desplaines St & Jackson Blvd</td></tr><tr><td>KA1503000032</td><td>Union Ave & Root St</td></tr><tr><td>13345</td><td>Calumet Ave & 35th St</td></tr><tr><td>13162</td><td>Halsted St & 21st St</td></tr><tr><td>13157</td><td>Aberdeen St & Jackson Blvd</td></tr><tr><td>TA1307000129</td><td>State St & 35th St</td></tr><tr><td>RP-005</td><td>Western Ave & Lunt Ave</td></tr><tr><td>KA1503000027</td><td>Prairie Ave & 43rd St</td></tr><tr><td>TA1305000020</td><td>Ogden Ave & Chicago Ave</td></tr><tr><td>TA1306000025</td><td>Racine Ave & Congress Pkwy</td></tr><tr><td>16010</td><td>Keystone Ave & Fullerton Ave</td></tr><tr><td>TA1309000064</td><td>Wolcott Ave & Polk St</td></tr><tr><td>KA1504000142</td><td>Drake Ave & Addison St</td></tr><tr><td>KA1503000074</td><td>Museum of Science and Industry</td></tr><tr><td>TA1309000011</td><td>Ellis Ave & 58th St</td></tr><tr><td>KA1503000013</td><td>Princeton Ave & Garfield Blvd</td></tr><tr><td>KA1503000020</td><td>South Shore Dr & 74th St</td></tr><tr><td>TA1307000164</td><td>Woodlawn Ave & 55th St</td></tr><tr><td>KA1503000071</td><td>University Ave & 57th St</td></tr><tr><td>KA1503000068</td><td>Leavitt St & Archer Ave</td></tr><tr><td>KA1503000065</td><td>Woodlawn Ave & Lake Park Ave</td></tr><tr><td>13257</td><td>Campbell Ave & North Ave</td></tr><tr><td>TA1308000007</td><td>MLK Jr Dr & 47th St</td></tr><tr><td>13326</td><td>Canal St & Harrison St</td></tr><tr><td>TA1309000059</td><td>Racine Ave & Wrightwood Ave</td></tr><tr><td>KA1504000109</td><td>Washtenaw Ave & Ogden Ave</td></tr><tr><td>13099</td><td>Halsted St & 18th St</td></tr><tr><td>TA1307000127</td><td>Clark St & Grace St</td></tr><tr><td>13258</td><td>California Ave & North Ave</td></tr><tr><td>13155</td><td>Racine Ave & Randolph St</td></tr><tr><td>KA1504000148</td><td>Clark St & Elmdale Ave</td></tr><tr><td>13319</td><td>Ashland Ave & Grace St</td></tr><tr><td>TA1308000012</td><td>Montrose Harbor</td></tr><tr><td>KA1504000171</td><td>Marine Dr & Ainslie St</td></tr><tr><td>15648</td><td>Campbell Ave & Fullerton Ave</td></tr><tr><td>13074</td><td>Broadway & Wilson - Truman College Vaccination Site</td></tr><tr><td>TA1305000001</td><td>Wabash Ave & Cermak Rd</td></tr><tr><td>TA1309000041</td><td>Sheridan Rd & Lawrence Ave</td></tr><tr><td>15645</td><td>Richmond St & Diversey Ave</td></tr><tr><td>TA1305000017</td><td>Halsted St & Roosevelt Rd</td></tr><tr><td>13248</td><td>Ashland Ave & Augusta Blvd</td></tr><tr><td>13037</td><td>Clinton St & Tilden St</td></tr><tr><td>KA1504000078</td><td>Lincoln Ave & Winona St</td></tr><tr><td>13229</td><td>Southport Ave & Belmont Ave</td></tr><tr><td>TA1309000033</td><td>Sheffield Ave & Webster Ave</td></tr><tr><td>TA1306000007</td><td>Larrabee St & Menomonee St</td></tr><tr><td>TA1307000156</td><td>Lincoln Ave & Sunnyside Ave</td></tr><tr><td>13215</td><td>Rhodes Ave & 32nd St</td></tr><tr><td>639</td><td>Lakefront Trail & Wilson Ave</td></tr><tr><td>13124</td><td>Cannon Dr & Fullerton Ave</td></tr><tr><td>15544</td><td>Shedd Aquarium</td></tr><tr><td>599</td><td>Valli Produce - Evanston Plaza</td></tr><tr><td>546</td><td>Damen Ave & Pershing Rd</td></tr><tr><td>15691</td><td>Albany Ave & 26th St</td></tr><tr><td>KA1503000075</td><td>DuSable Museum</td></tr><tr><td>515</td><td>Paulina St & Howard St</td></tr><tr><td>15664</td><td>Artesian Ave & Hubbard St</td></tr><tr><td>15668</td><td>Western Ave & Congress Pkwy</td></tr><tr><td>13134</td><td>Damen Ave & Madison St</td></tr><tr><td>KA1504000102</td><td>Fairfield Ave & Roosevelt Rd</td></tr><tr><td>13091</td><td>Western Ave & 21st St</td></tr><tr><td>598</td><td>Elmwood Ave & Austin St</td></tr><tr><td>600</td><td>Dodge Ave & Church St</td></tr><tr><td>15634</td><td>Western Ave & Roscoe St</td></tr><tr><td>661</td><td>Evanston Civic Center</td></tr><tr><td>13028</td><td>900 W Harrison St</td></tr><tr><td>KA1504000156</td><td>Clark St & Schreiber Ave</td></tr><tr><td>E014</td><td>Lincolnwood Dr & Central St</td></tr><tr><td>TA1307000038</td><td>Sedgwick St & North Ave</td></tr><tr><td>E006</td><td>Central St Metra</td></tr><tr><td>KA1503000018</td><td>Jeffery Blvd & 71st St</td></tr><tr><td>13163</td><td>Morgan St & 18th St</td></tr><tr><td>TA1307000136</td><td>Clark St & Wellington Ave</td></tr><tr><td>TA1308000038</td><td>Cottage Grove Ave & Oakwood Blvd</td></tr><tr><td>TA1308000043</td><td>Halsted St & 35th St</td></tr><tr><td>15546</td><td>Calumet Ave & 21st St</td></tr><tr><td>KA1504000101</td><td>Ogden Ave & Roosevelt Rd</td></tr><tr><td>13075</td><td>Wentworth Ave & Cermak Rd</td></tr><tr><td>KA1504000093</td><td>Rockwell St & Eastwood Ave</td></tr><tr><td>KA1504000106</td><td>Kedzie Ave & Lake St</td></tr><tr><td>KA17018068</td><td>Leavitt St & Belmont Ave</td></tr><tr><td>13241</td><td>Western Ave & Division St</td></tr><tr><td>13042</td><td>Michigan Ave & Oak St</td></tr><tr><td>TA1309000015</td><td>Leavitt St & Lawrence Ave</td></tr><tr><td>RP-004</td><td>Oakley Ave & Touhy Ave</td></tr><tr><td>TA1308000047</td><td>Southport Ave & Clark St</td></tr><tr><td>596</td><td>Benson Ave & Church St</td></tr><tr><td>TA1309000014</td><td>Clark St & Leland Ave</td></tr><tr><td>660</td><td>Sheridan Rd & Columbia Ave</td></tr><tr><td>TA1309000066</td><td>Ravenswood Ave & Lawrence Ave</td></tr><tr><td>KA1504000143</td><td>Leavitt St & Addison St</td></tr><tr><td>553</td><td>Elizabeth St & 47th St</td></tr><tr><td>13420</td><td>MLK Jr Dr & Pershing Rd</td></tr><tr><td>15642</td><td>California Ave & Fletcher St</td></tr><tr><td>TA1305000004</td><td>McCormick Place</td></tr><tr><td>KA1504000139</td><td>Monticello Ave & Irving Park Rd</td></tr><tr><td>13249</td><td>Ashland Ave & Belle Plaine Ave</td></tr><tr><td>15653</td><td>Troy St & North Ave</td></tr><tr><td>13081</td><td>Ogden Ave & Congress Pkwy</td></tr><tr><td>TA1306000006</td><td>Orleans St & Elm St</td></tr><tr><td>13242</td><td>Milwaukee Ave & Rockwell St</td></tr><tr><td>15615</td><td>Christiana Ave & Lawrence Ave</td></tr><tr><td>15470</td><td>Calumet Ave & 51st St</td></tr><tr><td>13331</td><td>May St & Cullerton St</td></tr><tr><td>E008</td><td>Chicago Ave & Sheridan Rd</td></tr><tr><td>16918</td><td>Austin Blvd & Madison St</td></tr><tr><td>590</td><td>Kilbourn Ave & Irving Park Rd</td></tr><tr><td>SL-013</td><td>State St & 19th St</td></tr><tr><td>20238</td><td>Greenwood Ave & 97th St</td></tr><tr><td>655</td><td>Hoyne Ave & Balmoral Ave</td></tr><tr><td>RP-008</td><td>Clark St & Columbia Ave</td></tr><tr><td>650</td><td>Eggleston Ave & 69th St</td></tr><tr><td>KA1504000160</td><td>Francisco Ave & Foster Ave</td></tr><tr><td>15624</td><td>Avondale Ave & Irving Park Rd</td></tr><tr><td>594</td><td>Western Blvd & 48th Pl</td></tr><tr><td>TA1309000003</td><td>Western Ave & 24th St</td></tr><tr><td>519</td><td>Wolcott Ave & Fargo Ave</td></tr><tr><td>TA1309000006</td><td>Larrabee St & Armitage Ave</td></tr><tr><td>KA1706005015</td><td>Kildare Ave & Montrose Ave</td></tr><tr><td>18022</td><td>Archer (Damen) Ave & 37th St</td></tr><tr><td>KA1504000167</td><td>Kedzie Ave & Bryn Mawr Ave</td></tr><tr><td>KA1503000004</td><td>Lake Park Ave & 35th St</td></tr><tr><td>KA1503000019</td><td>Stony Island Ave & 75th St</td></tr><tr><td>E007</td><td>Central St & Girard Ave</td></tr><tr><td>15685</td><td>Central Park Ave & Ogden Ave</td></tr><tr><td>20254.0</td><td>W Armitage Ave & N Sheffield Ave</td></tr><tr><td>KA1503000054</td><td>Cottage Grove Ave & 63rd St</td></tr><tr><td>KA1504000147</td><td>Winchester (Ravenswood) Ave & Balmoral Ave</td></tr><tr><td>631</td><td>Malcolm X College Vaccination Site</td></tr><tr><td>KA1504000091</td><td>Hoyne Ave & 47th St</td></tr><tr><td>13089</td><td>Damen Ave & Cullerton St</td></tr><tr><td>16906</td><td>Austin Blvd & Lake St</td></tr><tr><td>KA1503000005</td><td>Wentworth Ave & 35th St</td></tr><tr><td>16921</td><td>Austin Blvd & Chicago Ave</td></tr><tr><td>KA1504000128</td><td>Kedzie Ave & Foster Ave</td></tr><tr><td>15631</td><td>Troy St & Elston Ave</td></tr><tr><td>15628</td><td>California Ave & Byron St</td></tr><tr><td>KA1504000110</td><td>Millard Ave & 26th St</td></tr><tr><td>595</td><td>Wabash Ave & 87th St</td></tr><tr><td>585</td><td>Cottage Grove Ave & 83rd St</td></tr><tr><td>584</td><td>Ellis Ave & 83rd St</td></tr><tr><td>530</td><td>Laramie Ave & Kinzie St</td></tr><tr><td>TA1306000011</td><td>Wells St & Walton St</td></tr><tr><td>604</td><td>Sheridan Rd & Noyes St (NU)</td></tr><tr><td>20253.0</td><td>N Paulina St & Lincoln Ave</td></tr><tr><td>13259</td><td>California Ave & Francis Pl (Temp)</td></tr><tr><td>15643</td><td>Kosciuszko Park</td></tr><tr><td>KA1503000025</td><td>Wentworth Ave & 63rd St</td></tr><tr><td>16903</td><td>Cicero Ave & Lake St</td></tr><tr><td>527</td><td>Western Ave & Howard St</td></tr><tr><td>KA1503000049</td><td>Rainbow Beach</td></tr><tr><td>570</td><td>Evans Ave & 75th St</td></tr><tr><td>KA1504000114</td><td>Kedzie Ave & Chicago Ave</td></tr><tr><td>KA1503000033</td><td>Eberhart Ave & 61st St</td></tr><tr><td>592</td><td>Knox Ave & Montrose Ave</td></tr><tr><td>KA1504000126</td><td>Kedzie Ave & Leland Ave</td></tr><tr><td>545</td><td>Kostner Ave & Adams St</td></tr><tr><td>KA1503000009</td><td>Princeton Ave & 47th St</td></tr><tr><td>15585</td><td>Budlong Woods Library</td></tr><tr><td>RP-001</td><td>Warren Park West</td></tr><tr><td>KA1503000073</td><td>MLK Jr Dr & 56th St</td></tr><tr><td>KA1504000113</td><td>Sacramento Blvd & Franklin Blvd</td></tr><tr><td>646</td><td>State St & 54th St</td></tr><tr><td>TA1308000023</td><td>Cottage Grove Ave & 43rd St</td></tr><tr><td>TA1309000053</td><td>Cottage Grove Ave & 47th St</td></tr><tr><td>KA1504000096</td><td>Sawyer Ave & Irving Park Rd</td></tr><tr><td>15666</td><td>California Ave & Lake St</td></tr><tr><td>16920</td><td>Central Ave & Chicago Ave</td></tr><tr><td>15449</td><td>State St & Pershing Rd</td></tr><tr><td>KA1503000023</td><td>Stony Island Ave & 67th St</td></tr><tr><td>583</td><td>Stony Island Ave & 82nd St</td></tr><tr><td>KA1503000024</td><td>Yates Blvd & 75th St</td></tr><tr><td>TA1309000051</td><td>Commercial Ave & 83rd St</td></tr><tr><td>KA1503000021</td><td>Stony Island Ave & 64th St</td></tr><tr><td>16907</td><td>Central Park Blvd & 5th Ave</td></tr><tr><td>16806</td><td>Bosworth Ave & Howard St</td></tr><tr><td>16991</td><td>Milwaukee Ave & Cuyler Ave</td></tr><tr><td>KA1503000010</td><td>Halsted St & 51st St</td></tr><tr><td>KA1503000046</td><td>Dorchester Ave & 63rd St</td></tr><tr><td>KA1504000141</td><td>Pulaski Rd & Eddy St (Temp)</td></tr><tr><td>KA1504000130</td><td>Maplewood Ave & Peterson Ave</td></tr><tr><td>RP-006</td><td>Ridge Blvd & Touhy Ave</td></tr><tr><td>13083</td><td>Indiana Ave & 40th St</td></tr><tr><td>518</td><td>Conservatory Dr & Lake St</td></tr><tr><td>20210</td><td>State St & 123rd St</td></tr><tr><td>20206</td><td>Homewood Ave & 115th St</td></tr><tr><td>20131</td><td>Cottage Grove Ave & 111th Pl</td></tr><tr><td>20229</td><td>Baltimore Ave & 87th St</td></tr><tr><td>528</td><td>Pulaski Rd & Lake St</td></tr><tr><td>RP-002</td><td>Warren Park East</td></tr><tr><td>573</td><td>State St & 79th St</td></tr><tr><td>KA1503000031</td><td>Cottage Grove Ave & 67th St</td></tr><tr><td>20109</td><td>Vernon Ave & 107th St</td></tr><tr><td>KA1503000051</td><td>Halsted St & 47th Pl</td></tr><tr><td>KA1503000030</td><td>Jeffery Blvd & 67th St</td></tr><tr><td>15687</td><td>Central Park Ave & 24th St</td></tr><tr><td>20223</td><td>Ewing Ave & Burnham Greenway</td></tr><tr><td>KA1503000003</td><td>Cottage Grove Ave & 71st St</td></tr><tr><td>20252.0</td><td>W Oakdale Ave & N Broadway</td></tr><tr><td>649</td><td>Stewart Ave & 63rd St</td></tr><tr><td>20214</td><td>Avenue O & 134th St</td></tr><tr><td>TA1307000161</td><td>Halsted St & 37th St</td></tr><tr><td>20104</td><td>State St & 95th St</td></tr><tr><td>20247.0</td><td>W Washington Blvd & N Peoria St</td></tr><tr><td>662</td><td>Dodge Ave & Mulford St</td></tr><tr><td>20119</td><td>Elizabeth St & 92nd St</td></tr><tr><td>20129</td><td>Ada St & 113th St</td></tr><tr><td>653</td><td>Cornell Dr & Hayes Dr</td></tr><tr><td>KA1503000045</td><td>Stony Island Ave & 71st St</td></tr><tr><td>569</td><td>Woodlawn Ave & 75th St</td></tr><tr><td>20110</td><td>Eberhart Ave & 91st St</td></tr><tr><td>20218</td><td>Avenue O & 118th St</td></tr><tr><td>20127</td><td>Halsted St & 111th St</td></tr><tr><td>KA1503000055</td><td>Halsted & 63rd - Kennedy-King Vaccination Site</td></tr><tr><td>16915</td><td>Central Ave & Harrison St</td></tr><tr><td>13080</td><td>Hermitage Ave & Polk St</td></tr><tr><td>652</td><td>Rhodes Ave & 71st St</td></tr><tr><td>20116</td><td>Dauphin Ave & 87th St</td></tr><tr><td>15692</td><td>California Ave & 26th St</td></tr><tr><td>534</td><td>Karlov Ave & Madison St</td></tr><tr><td>582</td><td>Phillips Ave & 83rd St</td></tr><tr><td>20113</td><td>Dauphin Ave & 103rd St</td></tr><tr><td>20245</td><td>Ashland Ave & 74th St</td></tr><tr><td>KA1504000168</td><td>Western & 28th - Velasquez Institute Vaccination Site</td></tr><tr><td>20107</td><td>Walden Pkwy & 100th St</td></tr><tr><td>KA1504000086</td><td>Kedzie Ave & 24th St</td></tr><tr><td>16970</td><td>Bennett Ave & 79th St</td></tr><tr><td>20228</td><td>Constance Ave & 95th St</td></tr><tr><td>20123</td><td>Western Ave & 104th St</td></tr><tr><td>20101</td><td>Summit Ave & 86th St</td></tr><tr><td>KA1503000011</td><td>Halsted St & 56th St</td></tr><tr><td>20257.0</td><td>N Southport Ave & W Newport Ave</td></tr><tr><td>16937</td><td>Ashland Ave & McDowell Ave</td></tr><tr><td>586</td><td>MLK Jr Dr & 83rd St</td></tr><tr><td>559</td><td>Racine Ave & Garfield Blvd</td></tr><tr><td>20227</td><td>Bradley Park</td></tr><tr><td>20230</td><td>Clyde Ave & 87th St</td></tr><tr><td>554</td><td>Damen Ave & 51st St</td></tr><tr><td>16913</td><td>Cicero Ave & Quincy St</td></tr><tr><td>20205</td><td>Western Ave & 111th St</td></tr><tr><td>20208</td><td>Major Taylor Trail & 124th St</td></tr><tr><td>20106</td><td>Chicago State University</td></tr><tr><td>579</td><td>Phillips Ave & 79th St</td></tr><tr><td>20233</td><td>Halsted St & 78th St</td></tr><tr><td>20204</td><td>Kedzie Ave & 110th St</td></tr><tr><td>20235</td><td>Greenwood Ave & 91st St</td></tr><tr><td>540</td><td>Laramie Ave & Madison St</td></tr><tr><td>20244</td><td>Halsted St & 73rd St</td></tr><tr><td>16950</td><td>Ashland Ave & 66th St</td></tr><tr><td>16948</td><td>Ashland Ave & 63rd St</td></tr><tr><td>537</td><td>Kenton Ave & Madison St</td></tr><tr><td>16933</td><td>Morgan St & Pershing Rd</td></tr><tr><td>16953</td><td>Vincennes Ave & 75th St</td></tr><tr><td>13213</td><td>State St & 29th St</td></tr><tr><td>20221</td><td>Torrence Ave & 106th St</td></tr><tr><td>567</td><td>May St & 69th St</td></tr><tr><td>572</td><td>State St & 76th St</td></tr><tr><td>557</td><td>Seeley Ave & Garfield Blvd</td></tr><tr><td>574</td><td>Vernon Ave & 79th St</td></tr><tr><td>587</td><td>Wabash Ave & 83rd St</td></tr><tr><td>651</td><td>Michigan Ave & 71st St</td></tr><tr><td>577</td><td>Stony Island Ave & South Chicago Ave</td></tr><tr><td>20231</td><td>East End Ave & 87th St</td></tr><tr><td>20222</td><td>Burnham Greenway & 105th St</td></tr><tr><td>20232</td><td>Big Marsh Park</td></tr><tr><td>20256.0</td><td>N Sheffield Ave & W Wellington Ave</td></tr><tr><td>20108</td><td>Hale Ave & 107th St</td></tr><tr><td>647</td><td>Elizabeth St & 59th St</td></tr><tr><td>20203</td><td>Lawndale Ave & 111th St</td></tr><tr><td>20242</td><td>Houston Ave & 92nd St</td></tr><tr><td>15599</td><td>Calumet Ave & 71st St</td></tr><tr><td>20.0</td><td>Damen Ave & Wabansia Ave</td></tr><tr><td>15682</td><td>Kedzie Ave & Roosevelt Rd</td></tr><tr><td>16940</td><td>Ashland Ave & 50th St</td></tr><tr><td>560</td><td>Marshfield Ave & 59th St</td></tr><tr><td>15686</td><td>Kedzie Ave & 21st St</td></tr><tr><td>20103</td><td>Prospect Sq & 91st St</td></tr><tr><td>20124</td><td>Vincennes Ave & 104th St</td></tr><tr><td>20234</td><td>Ashland Ave & 78th St</td></tr><tr><td>20112</td><td>Indiana Ave & 103rd St</td></tr><tr><td>20217</td><td>Torrence Ave & 126th Pl</td></tr><tr><td>15597</td><td>Halsted St & 69th St</td></tr><tr><td>571</td><td>Vernon Ave & 75th St</td></tr><tr><td>561</td><td>Damen Ave & 59th St</td></tr><tr><td>20248.0</td><td>N Hampden Ct & W Diversey Ave</td></tr><tr><td>20207</td><td>Major Taylor Trail & 115th St</td></tr><tr><td>20105</td><td>Halsted St & 96th St</td></tr><tr><td>543</td><td>Laramie Ave & Gladys Ave</td></tr><tr><td>20246.0</td><td>N Green St & W Lake St</td></tr><tr><td>20251.0</td><td>N Carpenter St & W Lake St</td></tr><tr><td>20211</td><td>Eberhart Ave & 131st St</td></tr><tr><td>20243</td><td>Michigan Ave & 114th St</td></tr><tr><td>20213</td><td>Commercial Ave & 130th St</td></tr><tr><td>KA1503000053</td><td>MLK Jr Dr & 63rd St</td></tr><tr><td>576</td><td>Greenwood Ave & 79th St</td></tr><tr><td>549</td><td>Marshfield Ave & 44th St</td></tr><tr><td>16912</td><td>Cicero Ave & Flournoy St</td></tr><tr><td>KA1503000028</td><td>Jeffery Blvd & 76th St</td></tr><tr><td>593</td><td>Halsted St & 59th St</td></tr><tr><td>575</td><td>Cottage Grove Ave & 78th St</td></tr><tr><td>580</td><td>Exchange Ave & 79th St</td></tr><tr><td>16905</td><td>Central Ave & Lake St</td></tr><tr><td>562</td><td>Racine Ave & 61st St</td></tr><tr><td>16916</td><td>Central Ave & Madison St</td></tr><tr><td>20120</td><td>Stewart Ave & 83rd St</td></tr><tr><td>20236</td><td>Stony Island Ave & 90th St</td></tr><tr><td>20215</td><td>Hegewisch Metra Station</td></tr><tr><td>642</td><td>Latrobe Ave & Chicago Ave</td></tr><tr><td>16932</td><td>Ashland Ave & Pershing Rd</td></tr><tr><td>20118</td><td>Eggleston Ave & 92nd St</td></tr><tr><td>20130</td><td>Wentworth Ave & 104th St</td></tr><tr><td>16943</td><td>Ashland Ave & Garfield Blvd</td></tr><tr><td>20125</td><td>Halsted St & 104th St</td></tr><tr><td>202480.0</td><td>Hampden Ct & Diversey Ave</td></tr><tr><td>20225</td><td>Commercial Ave & 100th St</td></tr><tr><td>588</td><td>South Chicago Ave & 83rd St</td></tr><tr><td>20201</td><td>Kedzie Ave & 104th St</td></tr><tr><td>556</td><td>Throop St & 52nd St</td></tr><tr><td>18025</td><td>Carpenter St & 63rd St</td></tr><tr><td>20226</td><td>Oglesby Ave & 100th St</td></tr><tr><td>KA1503000001</td><td>Shields Ave & 43rd St</td></tr><tr><td>20224</td><td>Calumet Park</td></tr><tr><td>20212</td><td>Altgeld Gardens</td></tr><tr><td>564</td><td>Racine Ave & 65th St</td></tr><tr><td>201022</td><td>Loomis St & 89th St</td></tr><tr><td>665</td><td>South Chicago Ave & Elliot Ave</td></tr><tr><td>20249.0</td><td>N Clark St & W Elm St</td></tr><tr><td>DIVVY 001</td><td>WEST CHI-WATSON</td></tr><tr><td>20237</td><td>Yates Blvd & 93rd St</td></tr><tr><td>20202</td><td>W 103rd St & S Avers Ave</td></tr><tr><td>20133</td><td>Woodlawn & 103rd - Olive Harvey Vaccination Site</td></tr><tr><td>20134</td><td>Maryland Ave & 104th St</td></tr><tr><td>20999</td><td>Lyft Driver Center Private Rack</td></tr><tr><td>20126</td><td>S Aberdeen St & W 106th St</td></tr><tr><td>322</td><td>Cicero Ave & Grace St</td></tr><tr><td>365.0</td><td>Kildare Ave & 26th St</td></tr><tr><td>362.0</td><td>Lawndale Ave & 16th St</td></tr><tr><td>366.0</td><td>Spaulding Ave & 16th St</td></tr><tr><td>364.0</td><td>Homan Ave & Fillmore St</td></tr><tr><td>356</td><td>Lavergne & Fullerton</td></tr><tr><td>20220</td><td>Avenue L & 114th St</td></tr><tr><td>DIVVY CASSETTE REPAIR MOBILE STATION</td><td>DIVVY CASSETTE REPAIR MOBILE STATION</td></tr><tr><td>358</td><td>Kilpatrick Ave & Parker Ave</td></tr><tr><td>329.0</td><td>Central Park Ave & Douglas Blvd</td></tr><tr><td>316</td><td>Lamon Ave & Belmont Ave</td></tr><tr><td>368.0</td><td>Tripp Ave & 31st St</td></tr><tr><td>317</td><td>Long Ave & Belmont Ave</td></tr><tr><td>353</td><td>Meade Ave & Diversey Ave</td></tr><tr><td>313</td><td>Long Ave & Belden Ave</td></tr><tr><td>363.0</td><td>Tripp Ave & 15th St</td></tr><tr><td>355</td><td>Central Ave & Parker Ave</td></tr><tr><td>334.0</td><td>Lawndale Ave & 30th St</td></tr><tr><td>324</td><td>Meade Ave & Addison St</td></tr><tr><td>360</td><td>Kilbourn & Roscoe</td></tr><tr><td>351</td><td>Mulligan Ave & Wellington Ave</td></tr><tr><td>354</td><td>Parkside Ave & Armitage Ave</td></tr><tr><td>312</td><td>Lockwood Ave & Wrightwood Ave</td></tr><tr><td>327</td><td>Plainfield & Irving Park</td></tr><tr><td>397</td><td>Narragansett Ave & School St</td></tr><tr><td>396</td><td>Central Ave & Roscoe St</td></tr><tr><td>398</td><td>Long & Irving Park</td></tr><tr><td>330.0</td><td>Keeler Ave & Roosevelt Rd</td></tr><tr><td>335.0</td><td>Komensky Ave & 31st St</td></tr><tr><td>321</td><td>Kostner Ave & Wrightwood Ave</td></tr><tr><td>473</td><td>Mason Ave & Belmont Ave</td></tr><tr><td>310</td><td>North Ave & New England Ave</td></tr><tr><td>332.0</td><td>Harding Ave & 26th St</td></tr><tr><td>331.0</td><td>Pulaski Rd & 21st St</td></tr><tr><td>325</td><td>Harlem Ave & Grace St</td></tr><tr><td>393</td><td>Oketo Ave & Addison St</td></tr><tr><td>319</td><td>Roscoe & Harlem</td></tr><tr><td>357</td><td>Lamon Ave & Armitage Ave</td></tr><tr><td>352</td><td>Sayre & Diversey</td></tr><tr><td>359</td><td>Kilbourn & Belden</td></tr><tr><td>320</td><td>Orange & Addison</td></tr><tr><td>326</td><td>Harlem & Irving Park</td></tr><tr><td>305</td><td>Menard Ave & Division St</td></tr><tr><td>384</td><td>Kedzie Ave & 52nd St</td></tr><tr><td>394</td><td>Panama Ave & Grace St</td></tr><tr><td>308</td><td>Major Ave & Bloomingdale Ave</td></tr><tr><td>378</td><td>Nordica & Medill</td></tr><tr><td>323</td><td>Narragansett & Irving Park</td></tr><tr><td>348</td><td>Western Ave & 62nd St</td></tr><tr><td>20114</td><td>Doty Ave & 111th St</td></tr><tr><td>314</td><td>Narragansett & Wrightwood</td></tr><tr><td>361</td><td>Kenosha & Wellington</td></tr><tr><td>341</td><td>Archer Ave & 43rd St</td></tr><tr><td>318</td><td>Oak Park & Wellington</td></tr><tr><td>309</td><td>Narragansett & McLean</td></tr><tr><td>301</td><td>Monticello Ave & Chicago Ave</td></tr><tr><td>388</td><td>Richmond St & 59th St</td></tr><tr><td>302</td><td>Lamon Ave & Chicago Ave</td></tr><tr><td>377</td><td>Bloomingdale Ave & Harlem Ave</td></tr><tr><td>337</td><td>Hoyne Ave & 34th St</td></tr><tr><td>375</td><td>Long Ave & North Ave</td></tr><tr><td>304</td><td>Lavergne Ave & Division St</td></tr><tr><td>385</td><td>St Louis Ave & Norman Bobbins Ave</td></tr><tr><td>371</td><td>Kildare Ave & Chicago Ave</td></tr><tr><td>382</td><td>Kedzie Ave & 48th Pl</td></tr><tr><td>389</td><td>Maplewood Ave & 59th St</td></tr><tr><td>303</td><td>Kildare Ave & Division St</td></tr><tr><td>20260.0</td><td>Ping Tom Park (East)</td></tr><tr><td>379</td><td>Rockwell St & Archer Ave</td></tr><tr><td>339</td><td>Sacramento Ave & Pershing Rd</td></tr><tr><td>338</td><td>California Ave & 36th St</td></tr><tr><td>307</td><td>Leamington Ave & Hirsch St</td></tr><tr><td>445</td><td>Western Ave & Gunnison St</td></tr><tr><td>386</td><td>Rockwell St & 57th St</td></tr><tr><td>471</td><td>Damen Ave & 33rd St</td></tr><tr><td>403</td><td>Kildare Ave & 55th St</td></tr><tr><td>20255.0</td><td>N Damen Ave & W Chicago Ave</td></tr><tr><td>406</td><td>Kostner Ave & 63rd St</td></tr><tr><td>344</td><td>Springfield Ave & 47th St</td></tr><tr><td>343</td><td>Pulaski Rd & 51st St</td></tr><tr><td>399</td><td>Lavergne Ave & 46th St</td></tr><tr><td>380</td><td>Fairfield Ave & 44th St</td></tr><tr><td>407</td><td>Tripp Ave & 65th St</td></tr><tr><td>20209</td><td>S Michigan Ave & E 118th St</td></tr><tr><td>430</td><td>Troy St & Grace St</td></tr><tr><td>404</td><td>Pulaski Rd & 60th St</td></tr><tr><td>347</td><td>Komensky Ave & 55th St</td></tr><tr><td>346</td><td>Kedzie Ave & 57th St</td></tr><tr><td>370</td><td>Central Park & Augusta Blvd</td></tr><tr><td>400</td><td>Lawler Ave & 50th St</td></tr><tr><td>369</td><td>Central Park Ave & Ohio St</td></tr><tr><td>434</td><td>Albany Ave & Belmont Ave</td></tr><tr><td>428</td><td>Milwaukee Ave & Fullerton Ave</td></tr><tr><td>349</td><td>Spaulding Ave & 63rd St</td></tr><tr><td>345</td><td>Artesian Ave & 55th St</td></tr><tr><td>340</td><td>Pulaski & Ann Lurie Pl</td></tr><tr><td>20240</td><td>Indiana Ave & 133rd St</td></tr><tr><td>442</td><td>Lincoln Ave & Balmoral Ave</td></tr><tr><td>402</td><td>Kenneth Ave & 50th St</td></tr><tr><td>20128</td><td>S Wentworth Ave & W 111th St</td></tr><tr><td>374</td><td>Kilpatrick Ave & Grand Ave</td></tr><tr><td>443</td><td>California Ave & Winona St</td></tr><tr><td>475</td><td>Whipple/Irving Park</td></tr><tr><td>431</td><td>Western Ave & Grace St</td></tr><tr><td>435</td><td>Rockwell St & Fletcher St</td></tr><tr><td>458</td><td>Washtenaw Ave & Peterson Ave</td></tr><tr><td>472</td><td>Elston Ave & George St</td></tr><tr><td>462</td><td>Lincoln Ave & Peterson Ave</td></tr><tr><td>429</td><td>Francisco Ave & Bloomingdale Ave</td></tr><tr><td>444</td><td>N Shore Channel Trail & Argyle Ave</td></tr><tr><td>436</td><td>Kedzie Ave & George St</td></tr><tr><td>401</td><td>Kildare Ave & 47th St</td></tr><tr><td>373</td><td>Augusta Blvd & Laramie Ave</td></tr><tr><td>387</td><td>St Louis Ave & 59th St</td></tr><tr><td>425</td><td>Rockwell St & Cermak Rd</td></tr><tr><td>446</td><td>Francisco Ave & Montrose Ave</td></tr><tr><td>441</td><td>Virginia Ave & Catalpa Ave</td></tr><tr><td>390</td><td>California Ave & Marquette Rd</td></tr><tr><td>452</td><td>Richmond St & Lincoln Ave</td></tr><tr><td>419</td><td>Sacramento Blvd & Polk St</td></tr><tr><td>350</td><td>Hamlin Ave & 62nd Pl</td></tr><tr><td>433</td><td>Elston Ave & Henderson St</td></tr><tr><td>Throop/Hastings Mobile Station</td><td>Throop/Hastings Mobile Station</td></tr><tr><td>376</td><td>Menard Ave & North Ave</td></tr><tr><td>424</td><td>Sacramento Ave & 25th St</td></tr><tr><td>464</td><td>Western Ave & Ardmore Ave</td></tr><tr><td>432</td><td>Sacramento Blvd & Addison St</td></tr><tr><td>20102</td><td>Loomis St & 89th St</td></tr><tr><td>460</td><td>Francisco Ave & Hollywood Ave</td></tr><tr><td>466</td><td>California Ave & 29th St</td></tr><tr><td>21544</td><td>State St & Chicago Ave</td></tr><tr><td>418</td><td>Mozart St & Jackson Blvd</td></tr><tr><td>415</td><td>Western Ave & Lake St</td></tr><tr><td>416</td><td>Washtenaw Ave & Madison St</td></tr><tr><td>381</td><td>Francisco Ave & 47th St</td></tr><tr><td>414</td><td>Sacramento Blvd & Fulton Ave</td></tr><tr><td>20111</td><td>Olive Harvey College</td></tr><tr><td>383</td><td>Campbell Ave & 51st St</td></tr><tr><td>342</td><td>Kedzie Ave & 45th St</td></tr><tr><td>Pawel Bialowas - Test- PBSC charging station</td><td>Pawel Bialowas - Test- PBSC charging station</td></tr><tr><td>Hastings WH 2</td><td>Hastings WH 2</td></tr><tr><td>420</td><td>Washtenaw Ave & Polk St</td></tr><tr><td>474</td><td>Fullerton & Monitor</td></tr><tr><td>Lincoln Ave & Roscoe St - Charging</td><td>Lincoln Ave & Roscoe St - Charging</td></tr><tr><td>427</td><td>Whipple St & Roosevelt Rd</td></tr><tr><td>20258.0</td><td>N Damen Ave & W Wabansia St</td></tr><tr><td>437</td><td>Whipple St & Irving Park Rd</td></tr></tbody></table></div>"
      ]
     },
     "metadata": {
      "application/vnd.databricks.v1+output": {
       "addedWidgets": {},
       "aggData": [],
       "aggError": "",
       "aggOverflow": false,
       "aggSchema": [],
       "aggSeriesLimitReached": false,
       "aggType": "",
       "arguments": {},
       "columnCustomDisplayInfos": {},
       "data": [
        [
         "525",
         "Glenwood Ave & Touhy Ave"
        ],
        [
         "KA1503000012",
         "Clark St & Lake St"
        ],
        [
         "637",
         "Wood St & Chicago Ave"
        ],
        [
         "13216",
         "State St & 33rd St"
        ],
        [
         "18003",
         "Fairbanks St & Superior St"
        ],
        [
         "KP1705001026",
         "LaSalle Dr & Huron St"
        ],
        [
         "13253",
         "Lincoln Ave & Waveland Ave"
        ],
        [
         "KA1503000044",
         "Rush St & Hubbard St"
        ],
        [
         "KA1504000140",
         "Winchester Ave & Elston Ave"
        ],
        [
         "TA1305000032",
         "Clinton St & Madison St"
        ],
        [
         "TA1306000012",
         "Wells St & Huron St"
        ],
        [
         "13133",
         "Damen Ave & Cortland St"
        ],
        [
         "SL-005",
         "Indiana Ave & Roosevelt Rd"
        ],
        [
         "13235",
         "Southport Ave & Waveland Ave"
        ],
        [
         "TA1307000139",
         "MLK Jr Dr & 29th St"
        ],
        [
         "TA1305000009",
         "Clark St & Ida B Wells Dr"
        ],
        [
         "13276",
         "Stockton Dr & Wrightwood Ave"
        ],
        [
         "TA1307000107",
         "Sheridan Rd & Montrose Ave"
        ],
        [
         "13193",
         "Larrabee St & Webster Ave"
        ],
        [
         "KA1503000072",
         "Wacker Dr & Washington St"
        ],
        [
         "TA1307000166",
         "Halsted St & Willow St"
        ],
        [
         "13285",
         "Wood St & Taylor St (Temp)"
        ],
        [
         "TA1306000016",
         "Sheffield Ave & Fullerton Ave"
        ],
        [
         "13303",
         "Clark St & Chicago Ave"
        ],
        [
         "15575",
         "Broadway & Thorndale Ave"
        ],
        [
         "623",
         "Michigan Ave & 8th St"
        ],
        [
         "TA1309000050",
         "Lincoln Ave & Addison St"
        ],
        [
         "15445",
         "Wentworth Ave & 33rd St"
        ],
        [
         "13164",
         "Racine Ave & 18th St"
        ],
        [
         "TA1307000151",
         "Wells St & Hubbard St"
        ],
        [
         "13158",
         "Peoria St & Jackson Blvd"
        ],
        [
         "13150",
         "Michigan Ave & 18th St"
        ],
        [
         "TA1308000036",
         "Indiana Ave & 31st St"
        ],
        [
         "TA1308000013",
         "Halsted St & Archer Ave"
        ],
        [
         "TA1306000013",
         "New St & Illinois St"
        ],
        [
         "13061",
         "Ashland Ave & Division St"
        ],
        [
         "TA1307000048",
         "Fort Dearborn Dr & 31st St"
        ],
        [
         "TA1308000045",
         "Wallace St & 35th St"
        ],
        [
         "13206",
         "Loomis St & Jackson Blvd"
        ],
        [
         "13156",
         "Aberdeen St & Monroe St"
        ],
        [
         "TA1306000015",
         "Morgan St & Lake St"
        ],
        [
         "13058",
         "Dayton St & North Ave"
        ],
        [
         "TA1309000008",
         "Franklin St & Adams St (Temp)"
        ],
        [
         "KA1504000135",
         "Wells St & Elm St"
        ],
        [
         "KA1503000064",
         "Dusable Harbor"
        ],
        [
         "TA1305000022",
         "Orleans St & Merchandise Mart Plaza"
        ],
        [
         "KA1504000079",
         "Larrabee St & Division St"
        ],
        [
         "KA1503000022",
         "Clark St & Montrose Ave"
        ],
        [
         "13109",
         "Broadway & Berwyn Ave"
        ],
        [
         "15530",
         "Rush St & Superior St"
        ],
        [
         "TA1306000010",
         "Daley Center Plaza"
        ],
        [
         "13146",
         "Clark St & Armitage Ave"
        ],
        [
         "15578",
         "Broadway & Ridge Ave"
        ],
        [
         "KA1503000034",
         "LaSalle St & Adams St"
        ],
        [
         "KA1503000059",
         "Lake Park Ave & 53rd St"
        ],
        [
         "TA1305000011",
         "Michigan Ave & Lake St"
        ],
        [
         "TA1307000061",
         "State St & Pearson St"
        ],
        [
         "SL-011",
         "Wells St & Polk St"
        ],
        [
         "TA1309000010",
         "Wabash Ave & 9th St"
        ],
        [
         "15534",
         "Field Blvd & South Water St"
        ],
        [
         "TA1307000119",
         "Clarendon Ave & Leland Ave"
        ],
        [
         "TA1305000029",
         "State St & Randolph St"
        ],
        [
         "TA1309000063",
         "Lake Park Ave & 56th St"
        ],
        [
         "KA1504000133",
         "Rush St & Cedar St"
        ],
        [
         "624",
         "Dearborn St & Van Buren St"
        ],
        [
         "KA1503000029",
         "South Shore Dr & 67th St"
        ],
        [
         "13323",
         "Broadway & Sheridan Rd"
        ],
        [
         "KA1504000149",
         "Damen Ave & Foster Ave"
        ],
        [
         "TA1309000004",
         "LaSalle St & Jackson Blvd"
        ],
        [
         "18058",
         "Leavitt St & Chicago Ave"
        ],
        [
         "WL-008",
         "Clinton St & Roosevelt Rd"
        ],
        [
         "13221",
         "Wood St & Milwaukee Ave"
        ],
        [
         "523",
         "Eastlake Ter & Rogers Ave"
        ],
        [
         "TA1309000025",
         "Halsted St & Roscoe St"
        ],
        [
         "13288",
         "Damen Ave & Charleston St"
        ],
        [
         "658",
         "Leavitt St & Division St"
        ],
        [
         "TA1307000070",
         "Damen Ave & Thomas St (Augusta Blvd)"
        ],
        [
         "TA1305000041",
         "Damen Ave & Pierce Ave"
        ],
        [
         "13268",
         "Damen Ave & Wellington Ave"
        ],
        [
         "15667",
         "Western Ave & Monroe St"
        ],
        [
         "13084",
         "California Ave & Milwaukee Ave"
        ],
        [
         "15655",
         "Albany Ave & Bloomingdale Ave"
        ],
        [
         "17660",
         "California Ave & Cortez St"
        ],
        [
         "15651",
         "Humboldt Blvd & Armitage Ave"
        ],
        [
         "KA1504000146",
         "Clark St & Berwyn Ave"
        ],
        [
         "KA1504000151",
         "Clark St & Bryn Mawr Ave"
        ],
        [
         "KA1503000041",
         "McClurg Ct & Erie St"
        ],
        [
         "TA1308000046",
         "Morgan St & 31st St"
        ],
        [
         "13266",
         "Stave St & Armitage Ave"
        ],
        [
         "TA1307000124",
         "Michigan Ave & 14th St"
        ],
        [
         "13196",
         "Carpenter St & Huron St"
        ],
        [
         "TA1306000029",
         "Lake Shore Dr & Ohio St"
        ],
        [
         "TA1307000052",
         "Sheffield Ave & Wellington Ave"
        ],
        [
         "13021",
         "Clinton St & Lake St"
        ],
        [
         "TA1305000002",
         "Wabash Ave & Roosevelt Rd"
        ],
        [
         "KA1504000116",
         "Larrabee St & Oak St"
        ],
        [
         "TA1305000025",
         "Franklin St & Jackson Blvd"
        ],
        [
         "TA1305000034",
         "Honore St & Division St"
        ],
        [
         "15644",
         "Central Park Ave & Elbridge Ave"
        ],
        [
         "TA1309000030",
         "Southport Ave & Clybourn Ave"
        ],
        [
         "13432",
         "Wood St & Hubbard St"
        ],
        [
         "TA1308000049",
         "Wells St & Evergreen Ave"
        ],
        [
         "KA1504000117",
         "Halsted St & North Branch St"
        ],
        [
         "RP-007",
         "Clark St & Touhy Ave"
        ],
        [
         "15529",
         "Mies van der Rohe Way & Chestnut St"
        ],
        [
         "SL-008",
         "Federal St & Polk St"
        ],
        [
         "TA1307000005",
         "Indiana Ave & 26th St"
        ],
        [
         "13068",
         "Western Ave & Winnebago Ave"
        ],
        [
         "TA1307000039",
         "Clark St & Elm St"
        ],
        [
         "13045",
         "Dearborn St & Erie St"
        ],
        [
         "SL-012",
         "Wabash Ave & 16th St"
        ],
        [
         "TA1307000117",
         "Wabash Ave & Grand Ave"
        ],
        [
         "15654",
         "Spaulding Ave & Division St"
        ],
        [
         "13263",
         "Columbus Dr & Randolph St"
        ],
        [
         "13247",
         "Ashland Ave & Chicago Ave"
        ],
        [
         "13132",
         "Damen Ave & Chicago Ave"
        ],
        [
         "TA1308000006",
         "Damen Ave & Grand Ave"
        ],
        [
         "KA1503000069",
         "Dorchester Ave & 49th St"
        ],
        [
         "15623",
         "Campbell Ave & Montrose Ave"
        ],
        [
         "13006",
         "LaSalle St & Washington St"
        ],
        [
         "15550",
         "Canal St & Taylor St"
        ],
        [
         "13016",
         "St. Clair St & Erie St"
        ],
        [
         "TA1308000021",
         "Winthrop Ave & Lawrence Ave"
        ],
        [
         "LF-005",
         "Lake Shore Dr & North Blvd"
        ],
        [
         "TA1309000002",
         "Michigan Ave & Jackson Blvd"
        ],
        [
         "TA1305000037",
         "Paulina Ave & North Ave"
        ],
        [
         "15541",
         "Buckingham Fountain"
        ],
        [
         "13022",
         "Streeter Dr & Grand Ave"
        ],
        [
         "KA1706005007",
         "Delano Ct & Roosevelt Rd"
        ],
        [
         "TA1308000001",
         "Theater on the Lake"
        ],
        [
         "13294",
         "Greenview Ave & Diversey Pkwy"
        ],
        [
         "15542",
         "Clinton St & Polk St"
        ],
        [
         "13245",
         "Claremont Ave & Hirsch St"
        ],
        [
         "13001",
         "Michigan Ave & Washington St"
        ],
        [
         "TA1309000042",
         "Lincoln Ave & Belmont Ave"
        ],
        [
         "13033",
         "Milwaukee Ave & Grand Ave"
        ],
        [
         "TA1309000024",
         "Clark St & Schiller St"
        ],
        [
         "13265",
         "Kingsbury St & Erie St"
        ],
        [
         "13071",
         "Southport Ave & Roscoe St"
        ],
        [
         "13085",
         "Kedzie Ave & Milwaukee Ave"
        ],
        [
         "KA1504000090",
         "St. Louis Ave & Fullerton Ave"
        ],
        [
         "535",
         "Pulaski Rd & Congress Pkwy"
        ],
        [
         "13277",
         "Broadway & Belmont Ave"
        ],
        [
         "KA1504000152",
         "Lakefront Trail & Bryn Mawr Ave"
        ],
        [
         "TA1309000058",
         "Lincoln Ave & Fullerton Ave"
        ],
        [
         "16994",
         "Kilbourn Ave & Milwaukee Ave"
        ],
        [
         "13278",
         "Broadway & Cornelia Ave"
        ],
        [
         "E002",
         "Chicago Ave & Washington St"
        ],
        [
         "KA1504000080",
         "Washtenaw Ave & Lawrence Ave"
        ],
        [
         "TA1308000022",
         "Pine Grove Ave & Irving Park Rd"
        ],
        [
         "TA1309000027",
         "Sheridan Rd & Buena Ave"
        ],
        [
         "KA1504000155",
         "2112 W Peterson Ave"
        ],
        [
         "TA1305000014",
         "Clark St & Wrightwood Ave"
        ],
        [
         "TA1308000031",
         "Logan Blvd & Elston Ave"
        ],
        [
         "KA1504000164",
         "Keystone Ave & Montrose Ave"
        ],
        [
         "15640",
         "Avers Ave & Belmont Ave"
        ],
        [
         "620",
         "Orleans St & Chestnut St (NEXT Apts)"
        ],
        [
         "TA1309000061",
         "Halsted St & Wrightwood Ave"
        ],
        [
         "TA1308000050",
         "Wells St & Concord Ln"
        ],
        [
         "13379",
         "Clarendon Ave & Gordon Ter"
        ],
        [
         "13389",
         "Clarendon Ave & Junior Ter"
        ],
        [
         "KA1504000161",
         "St. Louis Ave & Balmoral Ave"
        ],
        [
         "TA1307000149",
         "Ravenswood Ave & Irving Park Rd"
        ],
        [
         "13224",
         "Ashland Ave & Blackhawk St"
        ],
        [
         "TA1306000009",
         "Larrabee St & Kingsbury St"
        ],
        [
         "605",
         "University Library (NU)"
        ],
        [
         "KA1504000134",
         "Ritchie Ct & Banks St"
        ],
        [
         "KA1503000007",
         "Cornell Ave & Hyde Park Blvd"
        ],
        [
         "520",
         "Greenview Ave & Jarvis Ave"
        ],
        [
         "13144",
         "Seeley Ave & Roscoe St"
        ],
        [
         "517",
         "Clark St & Jarvis Ave"
        ],
        [
         "638",
         "Clinton St & Jackson Blvd"
        ],
        [
         "KA1503000070",
         "Harper Ave & 59th St"
        ],
        [
         "13197",
         "Elizabeth (May) St & Fulton St"
        ],
        [
         "13191",
         "Sedgwick St & Webster Ave"
        ],
        [
         "KA1504000175",
         "Glenwood Ave & Morse Ave"
        ],
        [
         "13008",
         "Millennium Park"
        ],
        [
         "TA1307000006",
         "Southport Ave & Wellington Ave"
        ],
        [
         "13338",
         "Mies van der Rohe Way & Chicago Ave"
        ],
        [
         "13011",
         "Canal St & Adams St"
        ],
        [
         "KA1504000159",
         "Sheridan Rd & Greenleaf Ave"
        ],
        [
         "13292",
         "Kedzie Ave & Palmer Ct"
        ],
        [
         "RN-",
         "Franklin St & Illinois St"
        ],
        [
         "13256",
         "California Ave & Division St"
        ],
        [
         "TA1308000029",
         "Stetson Ave & South Water St"
        ],
        [
         "15491",
         "63rd St Beach"
        ],
        [
         "TA1309000021",
         "Paulina St & Montrose Ave"
        ],
        [
         "13354",
         "Ashland Ave & 13th St"
        ],
        [
         "TA1307000159",
         "Paulina St & 18th St"
        ],
        [
         "TA1309000037",
         "Kimbark Ave & 53rd St"
        ],
        [
         "KA1504000158",
         "Oakley Ave & Irving Park Rd"
        ],
        [
         "13332",
         "Loomis St & Lexington St"
        ],
        [
         "TA1308000005",
         "Leavitt St & North Ave"
        ],
        [
         "TA1307000138",
         "Lincoln Ave & Roscoe St"
        ],
        [
         "KA1503000040",
         "Loomis St & Archer Ave"
        ],
        [
         "TA1307000134",
         "Wilton Ave & Belmont Ave"
        ],
        [
         "13136",
         "Damen Ave & Division St"
        ],
        [
         "TA1308000035",
         "Lake Park Ave & 47th St"
        ],
        [
         "TA1309000029",
         "Leavitt St & Armitage Ave"
        ],
        [
         "13154",
         "Sheffield Ave & Kingsbury St"
        ],
        [
         "13135",
         "Blue Island Ave & 18th St"
        ],
        [
         "13096",
         "California Ave & 21st St"
        ],
        [
         "TA1309000012",
         "Damen Ave & Sunnyside Ave"
        ],
        [
         "13304",
         "Racine Ave & 15th St"
        ],
        [
         "KA1504000076",
         "Ellis Ave & 55th St"
        ],
        [
         "SL-007",
         "State St & Harrison St"
        ],
        [
         "657",
         "Wood St & Augusta Blvd"
        ],
        [
         "TA1309000018",
         "Ravenswood Ave & Berteau Ave"
        ],
        [
         "13029",
         "Field Museum"
        ],
        [
         "TA1306000002",
         "Morgan Ave & 14th Pl"
        ],
        [
         "TA1309000035",
         "Clark St & Winnemac Ave"
        ],
        [
         "13307",
         "Laflin St & Cullerton St"
        ],
        [
         "643",
         "Smith Park"
        ],
        [
         "13325",
         "Broadway & Waveland Ave"
        ],
        [
         "TA1305000039",
         "Marshfield Ave & Cortland St"
        ],
        [
         "TA1307000144",
         "Wolcott (Ravenswood) Ave & Montrose Ave"
        ],
        [
         "18062",
         "Aberdeen St & Randolph St"
        ],
        [
         "13073",
         "Ashland Ave & Lake St"
        ],
        [
         "TA1309000026",
         "Lincoln Ave & Belle Plaine Ave"
        ],
        [
         "15621",
         "Albany Ave & Montrose Ave"
        ],
        [
         "TA1308000009",
         "Shore Dr & 55th St"
        ],
        [
         "TA1307000044",
         "Clinton St & 18th St"
        ],
        [
         "13143",
         "Damen Ave & Melrose Ave"
        ],
        [
         "20121",
         "Loomis Blvd & 84th St"
        ],
        [
         "TA1309000007",
         "Franklin St & Monroe St"
        ],
        [
         "KA1504000127",
         "Manor Ave & Leland Ave"
        ],
        [
         "13063",
         "Sheridan Rd & Irving Park Rd"
        ],
        [
         "TA1307000150",
         "Pine Grove Ave & Waveland Ave"
        ],
        [
         "13341",
         "Canal St & Madison St"
        ],
        [
         "13179",
         "Clark St & Lincoln Ave"
        ],
        [
         "13296",
         "Ashland Ave & Wrightwood Ave"
        ],
        [
         "TA1309000023",
         "Sheffield Ave & Wrightwood Ave"
        ],
        [
         "13108",
         "Broadway & Argyle St"
        ],
        [
         "TA1307000142",
         "Clark St & Drummond Pl"
        ],
        [
         "TA1309000039",
         "Lake Shore Dr & Diversey Pkwy"
        ],
        [
         "TA1309000043",
         "Southport Ave & Irving Park Rd"
        ],
        [
         "KA17018054",
         "Damen Ave & Walnut (Lake) St"
        ],
        [
         "SL-006",
         "Wells St & 19th St"
        ],
        [
         "13192",
         "Halsted St & Dickens Ave"
        ],
        [
         "TA1308000014",
         "Normal Ave & Archer Ave"
        ],
        [
         "331",
         "Halsted St & Clybourn Ave"
        ],
        [
         "TA1307000158",
         "Damen Ave & Leland Ave"
        ],
        [
         "13128",
         "Clark St & North Ave"
        ],
        [
         "TA1305000005",
         "Dearborn St & Adams St"
        ],
        [
         "TA1306000014",
         "Wilton Ave & Diversey Pkwy"
        ],
        [
         "TA1307000131",
         "Wabash Ave & Wacker Pl"
        ],
        [
         "TA1306000032",
         "Sheffield Ave & Willow St"
        ],
        [
         "KA1504000082",
         "Kedzie Ave & Harrison St"
        ],
        [
         "SL-009",
         "Clark St & 9th St (AMLI)"
        ],
        [
         "TA1307000041",
         "Lake Shore Dr & Wellington Ave"
        ],
        [
         "TA1309000019",
         "Lakeview Ave & Fullerton Pkwy"
        ],
        [
         "13137",
         "Broadway & Barry Ave"
        ],
        [
         "13434",
         "Ashland Ave & Grand Ave"
        ],
        [
         "TA1307000126",
         "Sheffield Ave & Waveland Ave"
        ],
        [
         "13194",
         "Ogden Ave & Race Ave"
        ],
        [
         "13017",
         "Franklin St & Chicago Ave"
        ],
        [
         "TA1307000140",
         "Western Ave & Leland Ave"
        ],
        [
         "15622",
         "California Ave & Montrose Ave"
        ],
        [
         "13430",
         "LaSalle St & Illinois St"
        ],
        [
         "KA1503000002",
         "South Shore Dr & 71st St"
        ],
        [
         "TA1305000003",
         "Fairbanks Ct & Grand Ave"
        ],
        [
         "13431",
         "Adler Planetarium"
        ],
        [
         "TA1307000120",
         "Green St & Madison St"
        ],
        [
         "WL-012",
         "Clinton St & Washington Blvd"
        ],
        [
         "18069",
         "Cherry Ave & Blackhawk St"
        ],
        [
         "TA1309000067",
         "Cottage Grove Ave & 51st St"
        ],
        [
         "KA1504000097",
         "Drake Ave & Montrose Ave"
        ],
        [
         "15571",
         "Broadway & Granville Ave"
        ],
        [
         "15689",
         "California Ave & 23rd Pl"
        ],
        [
         "TA1307000064",
         "Lincoln Ave & Diversey Pkwy"
        ],
        [
         "KA1503000047",
         "Perry Ave & 69th St"
        ],
        [
         "13102",
         "Calumet Ave & 18th St"
        ],
        [
         "TA1307000111",
         "Franklin St & Lake St"
        ],
        [
         "13056",
         "Canal St & Monroe St"
        ],
        [
         "13036",
         "Michigan Ave & Madison St"
        ],
        [
         "13427",
         "Cityfront Plaza Dr & Pioneer Ct"
        ],
        [
         "SL-010",
         "Financial Pl & Ida B Wells Dr"
        ],
        [
         "18067",
         "Walsh Park"
        ],
        [
         "13398",
         "Blackstone Ave & Hyde Park Blvd"
        ],
        [
         "13353",
         "Ada St & Washington Blvd"
        ],
        [
         "TA1305000006",
         "Dearborn St & Monroe St"
        ],
        [
         "TA1309000036",
         "Burling St & Diversey Pkwy"
        ],
        [
         "TA1305000030",
         "Clark St & Randolph St"
        ],
        [
         "TA1305000010",
         "Michigan Ave & Ida B Wells Dr"
        ],
        [
         "TA1306000026",
         "Racine Ave & Fullerton Ave"
        ],
        [
         "654",
         "Racine Ave & Washington Blvd"
        ],
        [
         "TA1308000019",
         "Racine Ave & Belmont Ave"
        ],
        [
         "13165",
         "Racine Ave & 13th St"
        ],
        [
         "13409",
         "Sangamon St & Washington Blvd"
        ],
        [
         "WL-011",
         "Jefferson St & Monroe St"
        ],
        [
         "15646",
         "California Ave & Altgeld St"
        ],
        [
         "KA1504000104",
         "Paulina St & Flournoy St"
        ],
        [
         "13300",
         "Lake Shore Dr & Monroe St"
        ],
        [
         "13269",
         "Ashland Ave & Wellington Ave"
        ],
        [
         "TA1308000026",
         "Wentworth Ave & 24th St (Temp)"
        ],
        [
         "644",
         "Western Ave & Fillmore St"
        ],
        [
         "15650",
         "Spaulding Ave & Armitage Ave"
        ],
        [
         "TA1307000113",
         "Southport Ave & Wrightwood Ave"
        ],
        [
         "TA1307000128",
         "Dearborn Pkwy & Delaware Pl"
        ],
        [
         "TA1306000008",
         "Larrabee St & North Ave"
        ],
        [
         "636",
         "Orleans St & Hubbard St"
        ],
        [
         "TA1307000143",
         "Sedgwick St & Schiller St"
        ],
        [
         "KA150400009X",
         "Kimball Ave & Belmont Ave"
        ],
        [
         "TA1307000130",
         "Morgan St & Polk St"
        ],
        [
         "18016",
         "Bernard St & Elston Ave"
        ],
        [
         "TA1307000062",
         "Sedgwick St & Huron St"
        ],
        [
         "LP-",
         "Lincoln Park Conservatory"
        ],
        [
         "13050",
         "State St & Kinzie St"
        ],
        [
         "13243",
         "Milwaukee Ave & Wabansia Ave"
        ],
        [
         "E011",
         "Dodge Ave & Main St"
        ],
        [
         "KA1503000014",
         "Ellis Ave & 60th St"
        ],
        [
         "RP-009",
         "Sheridan Rd & Loyola Ave"
        ],
        [
         "KA1504000129",
         "Western Ave & Granville Ave"
        ],
        [
         "13138",
         "Canal St & Jackson Blvd"
        ],
        [
         "KA1503000052",
         "Ellis Ave & 53rd St"
        ],
        [
         "18017",
         "Central Park Ave & Bloomingdale Ave"
        ],
        [
         "TA1309000032",
         "Elston Ave & Wabansia Ave"
        ],
        [
         "TA1307000160",
         "Prairie Ave & Garfield Blvd"
        ],
        [
         "15632",
         "Talman Ave & Addison St"
        ],
        [
         "15545",
         "Burnham Harbor"
        ],
        [
         "20239",
         "Marquette Ave & 89th St"
        ],
        [
         "TA1308000002",
         "Greenwood Ave & 47th St"
        ],
        [
         "TA1309000049",
         "Lake Shore Dr & Belmont Ave"
        ],
        [
         "13289",
         "Eckhart Park"
        ],
        [
         "TA1307000121",
         "Halsted St & Polk St"
        ],
        [
         "13139",
         "Throop St & Taylor St"
        ],
        [
         "13053",
         "Green St & Randolph St"
        ],
        [
         "632",
         "Clark St & Newport St"
        ],
        [
         "536",
         "Kostner Ave & Lake St"
        ],
        [
         "13271",
         "Damen Ave & Clybourn Ave"
        ],
        [
         "13034",
         "Michigan Ave & Pearson St"
        ],
        [
         "TA1307000001",
         "Greenview Ave & Fullerton Ave"
        ],
        [
         "13290",
         "Noble St & Milwaukee Ave"
        ],
        [
         "TA1307000115",
         "Clybourn Ave & Division St"
        ],
        [
         "Hubbard Bike-checking (LBS-WH-TEST)",
         "Base - 2132 W Hubbard Warehouse"
        ],
        [
         "15652",
         "Central Park Ave & North Ave"
        ],
        [
         "KA1503000015",
         "Wabash Ave & Adams St"
        ],
        [
         "TA1307000066",
         "Damen Ave & Coulter St"
        ],
        [
         "KA1504000162",
         "Clark St & Lunt Ave"
        ],
        [
         "TA1305000035",
         "State St & Van Buren St"
        ],
        [
         "15443",
         "Shields Ave & 28th Pl"
        ],
        [
         "13059",
         "Bissell St & Armitage Ave"
        ],
        [
         "KA1503000038",
         "Shields Ave & 31st St"
        ],
        [
         "KA1503000066",
         "Wood St & 35th St"
        ],
        [
         "TA1307000163",
         "Clifton Ave & Armitage Ave"
        ],
        [
         "TA1309000001",
         "Halsted St & Maxwell St"
        ],
        [
         "TA1309000055",
         "Emerald Ave & 31st St"
        ],
        [
         "514",
         "Ridge Blvd & Howard St"
        ],
        [
         "KA1504000103",
         "Western Ave & Walton St"
        ],
        [
         "15535",
         "Desplaines St & Randolph St"
        ],
        [
         "TA1307000153",
         "Emerald Ave & 28th St"
        ],
        [
         "13217",
         "Calumet Ave & 33rd St"
        ],
        [
         "15446",
         "Racine Ave & 35th St"
        ],
        [
         "13160",
         "May St & Taylor St"
        ],
        [
         "KA1503000043",
         "Kingsbury St & Kinzie St"
        ],
        [
         "TA1306000003",
         "Desplaines St & Kinzie St"
        ],
        [
         "15442",
         "Ashland Ave & Archer Ave"
        ],
        [
         "15539",
         "Desplaines St & Jackson Blvd"
        ],
        [
         "KA1503000032",
         "Union Ave & Root St"
        ],
        [
         "13345",
         "Calumet Ave & 35th St"
        ],
        [
         "13162",
         "Halsted St & 21st St"
        ],
        [
         "13157",
         "Aberdeen St & Jackson Blvd"
        ],
        [
         "TA1307000129",
         "State St & 35th St"
        ],
        [
         "RP-005",
         "Western Ave & Lunt Ave"
        ],
        [
         "KA1503000027",
         "Prairie Ave & 43rd St"
        ],
        [
         "TA1305000020",
         "Ogden Ave & Chicago Ave"
        ],
        [
         "TA1306000025",
         "Racine Ave & Congress Pkwy"
        ],
        [
         "16010",
         "Keystone Ave & Fullerton Ave"
        ],
        [
         "TA1309000064",
         "Wolcott Ave & Polk St"
        ],
        [
         "KA1504000142",
         "Drake Ave & Addison St"
        ],
        [
         "KA1503000074",
         "Museum of Science and Industry"
        ],
        [
         "TA1309000011",
         "Ellis Ave & 58th St"
        ],
        [
         "KA1503000013",
         "Princeton Ave & Garfield Blvd"
        ],
        [
         "KA1503000020",
         "South Shore Dr & 74th St"
        ],
        [
         "TA1307000164",
         "Woodlawn Ave & 55th St"
        ],
        [
         "KA1503000071",
         "University Ave & 57th St"
        ],
        [
         "KA1503000068",
         "Leavitt St & Archer Ave"
        ],
        [
         "KA1503000065",
         "Woodlawn Ave & Lake Park Ave"
        ],
        [
         "13257",
         "Campbell Ave & North Ave"
        ],
        [
         "TA1308000007",
         "MLK Jr Dr & 47th St"
        ],
        [
         "13326",
         "Canal St & Harrison St"
        ],
        [
         "TA1309000059",
         "Racine Ave & Wrightwood Ave"
        ],
        [
         "KA1504000109",
         "Washtenaw Ave & Ogden Ave"
        ],
        [
         "13099",
         "Halsted St & 18th St"
        ],
        [
         "TA1307000127",
         "Clark St & Grace St"
        ],
        [
         "13258",
         "California Ave & North Ave"
        ],
        [
         "13155",
         "Racine Ave & Randolph St"
        ],
        [
         "KA1504000148",
         "Clark St & Elmdale Ave"
        ],
        [
         "13319",
         "Ashland Ave & Grace St"
        ],
        [
         "TA1308000012",
         "Montrose Harbor"
        ],
        [
         "KA1504000171",
         "Marine Dr & Ainslie St"
        ],
        [
         "15648",
         "Campbell Ave & Fullerton Ave"
        ],
        [
         "13074",
         "Broadway & Wilson - Truman College Vaccination Site"
        ],
        [
         "TA1305000001",
         "Wabash Ave & Cermak Rd"
        ],
        [
         "TA1309000041",
         "Sheridan Rd & Lawrence Ave"
        ],
        [
         "15645",
         "Richmond St & Diversey Ave"
        ],
        [
         "TA1305000017",
         "Halsted St & Roosevelt Rd"
        ],
        [
         "13248",
         "Ashland Ave & Augusta Blvd"
        ],
        [
         "13037",
         "Clinton St & Tilden St"
        ],
        [
         "KA1504000078",
         "Lincoln Ave & Winona St"
        ],
        [
         "13229",
         "Southport Ave & Belmont Ave"
        ],
        [
         "TA1309000033",
         "Sheffield Ave & Webster Ave"
        ],
        [
         "TA1306000007",
         "Larrabee St & Menomonee St"
        ],
        [
         "TA1307000156",
         "Lincoln Ave & Sunnyside Ave"
        ],
        [
         "13215",
         "Rhodes Ave & 32nd St"
        ],
        [
         "639",
         "Lakefront Trail & Wilson Ave"
        ],
        [
         "13124",
         "Cannon Dr & Fullerton Ave"
        ],
        [
         "15544",
         "Shedd Aquarium"
        ],
        [
         "599",
         "Valli Produce - Evanston Plaza"
        ],
        [
         "546",
         "Damen Ave & Pershing Rd"
        ],
        [
         "15691",
         "Albany Ave & 26th St"
        ],
        [
         "KA1503000075",
         "DuSable Museum"
        ],
        [
         "515",
         "Paulina St & Howard St"
        ],
        [
         "15664",
         "Artesian Ave & Hubbard St"
        ],
        [
         "15668",
         "Western Ave & Congress Pkwy"
        ],
        [
         "13134",
         "Damen Ave & Madison St"
        ],
        [
         "KA1504000102",
         "Fairfield Ave & Roosevelt Rd"
        ],
        [
         "13091",
         "Western Ave & 21st St"
        ],
        [
         "598",
         "Elmwood Ave & Austin St"
        ],
        [
         "600",
         "Dodge Ave & Church St"
        ],
        [
         "15634",
         "Western Ave & Roscoe St"
        ],
        [
         "661",
         "Evanston Civic Center"
        ],
        [
         "13028",
         "900 W Harrison St"
        ],
        [
         "KA1504000156",
         "Clark St & Schreiber Ave"
        ],
        [
         "E014",
         "Lincolnwood Dr & Central St"
        ],
        [
         "TA1307000038",
         "Sedgwick St & North Ave"
        ],
        [
         "E006",
         "Central St Metra"
        ],
        [
         "KA1503000018",
         "Jeffery Blvd & 71st St"
        ],
        [
         "13163",
         "Morgan St & 18th St"
        ],
        [
         "TA1307000136",
         "Clark St & Wellington Ave"
        ],
        [
         "TA1308000038",
         "Cottage Grove Ave & Oakwood Blvd"
        ],
        [
         "TA1308000043",
         "Halsted St & 35th St"
        ],
        [
         "15546",
         "Calumet Ave & 21st St"
        ],
        [
         "KA1504000101",
         "Ogden Ave & Roosevelt Rd"
        ],
        [
         "13075",
         "Wentworth Ave & Cermak Rd"
        ],
        [
         "KA1504000093",
         "Rockwell St & Eastwood Ave"
        ],
        [
         "KA1504000106",
         "Kedzie Ave & Lake St"
        ],
        [
         "KA17018068",
         "Leavitt St & Belmont Ave"
        ],
        [
         "13241",
         "Western Ave & Division St"
        ],
        [
         "13042",
         "Michigan Ave & Oak St"
        ],
        [
         "TA1309000015",
         "Leavitt St & Lawrence Ave"
        ],
        [
         "RP-004",
         "Oakley Ave & Touhy Ave"
        ],
        [
         "TA1308000047",
         "Southport Ave & Clark St"
        ],
        [
         "596",
         "Benson Ave & Church St"
        ],
        [
         "TA1309000014",
         "Clark St & Leland Ave"
        ],
        [
         "660",
         "Sheridan Rd & Columbia Ave"
        ],
        [
         "TA1309000066",
         "Ravenswood Ave & Lawrence Ave"
        ],
        [
         "KA1504000143",
         "Leavitt St & Addison St"
        ],
        [
         "553",
         "Elizabeth St & 47th St"
        ],
        [
         "13420",
         "MLK Jr Dr & Pershing Rd"
        ],
        [
         "15642",
         "California Ave & Fletcher St"
        ],
        [
         "TA1305000004",
         "McCormick Place"
        ],
        [
         "KA1504000139",
         "Monticello Ave & Irving Park Rd"
        ],
        [
         "13249",
         "Ashland Ave & Belle Plaine Ave"
        ],
        [
         "15653",
         "Troy St & North Ave"
        ],
        [
         "13081",
         "Ogden Ave & Congress Pkwy"
        ],
        [
         "TA1306000006",
         "Orleans St & Elm St"
        ],
        [
         "13242",
         "Milwaukee Ave & Rockwell St"
        ],
        [
         "15615",
         "Christiana Ave & Lawrence Ave"
        ],
        [
         "15470",
         "Calumet Ave & 51st St"
        ],
        [
         "13331",
         "May St & Cullerton St"
        ],
        [
         "E008",
         "Chicago Ave & Sheridan Rd"
        ],
        [
         "16918",
         "Austin Blvd & Madison St"
        ],
        [
         "590",
         "Kilbourn Ave & Irving Park Rd"
        ],
        [
         "SL-013",
         "State St & 19th St"
        ],
        [
         "20238",
         "Greenwood Ave & 97th St"
        ],
        [
         "655",
         "Hoyne Ave & Balmoral Ave"
        ],
        [
         "RP-008",
         "Clark St & Columbia Ave"
        ],
        [
         "650",
         "Eggleston Ave & 69th St"
        ],
        [
         "KA1504000160",
         "Francisco Ave & Foster Ave"
        ],
        [
         "15624",
         "Avondale Ave & Irving Park Rd"
        ],
        [
         "594",
         "Western Blvd & 48th Pl"
        ],
        [
         "TA1309000003",
         "Western Ave & 24th St"
        ],
        [
         "519",
         "Wolcott Ave & Fargo Ave"
        ],
        [
         "TA1309000006",
         "Larrabee St & Armitage Ave"
        ],
        [
         "KA1706005015",
         "Kildare Ave & Montrose Ave"
        ],
        [
         "18022",
         "Archer (Damen) Ave & 37th St"
        ],
        [
         "KA1504000167",
         "Kedzie Ave & Bryn Mawr Ave"
        ],
        [
         "KA1503000004",
         "Lake Park Ave & 35th St"
        ],
        [
         "KA1503000019",
         "Stony Island Ave & 75th St"
        ],
        [
         "E007",
         "Central St & Girard Ave"
        ],
        [
         "15685",
         "Central Park Ave & Ogden Ave"
        ],
        [
         "20254.0",
         "W Armitage Ave & N Sheffield Ave"
        ],
        [
         "KA1503000054",
         "Cottage Grove Ave & 63rd St"
        ],
        [
         "KA1504000147",
         "Winchester (Ravenswood) Ave & Balmoral Ave"
        ],
        [
         "631",
         "Malcolm X College Vaccination Site"
        ],
        [
         "KA1504000091",
         "Hoyne Ave & 47th St"
        ],
        [
         "13089",
         "Damen Ave & Cullerton St"
        ],
        [
         "16906",
         "Austin Blvd & Lake St"
        ],
        [
         "KA1503000005",
         "Wentworth Ave & 35th St"
        ],
        [
         "16921",
         "Austin Blvd & Chicago Ave"
        ],
        [
         "KA1504000128",
         "Kedzie Ave & Foster Ave"
        ],
        [
         "15631",
         "Troy St & Elston Ave"
        ],
        [
         "15628",
         "California Ave & Byron St"
        ],
        [
         "KA1504000110",
         "Millard Ave & 26th St"
        ],
        [
         "595",
         "Wabash Ave & 87th St"
        ],
        [
         "585",
         "Cottage Grove Ave & 83rd St"
        ],
        [
         "584",
         "Ellis Ave & 83rd St"
        ],
        [
         "530",
         "Laramie Ave & Kinzie St"
        ],
        [
         "TA1306000011",
         "Wells St & Walton St"
        ],
        [
         "604",
         "Sheridan Rd & Noyes St (NU)"
        ],
        [
         "20253.0",
         "N Paulina St & Lincoln Ave"
        ],
        [
         "13259",
         "California Ave & Francis Pl (Temp)"
        ],
        [
         "15643",
         "Kosciuszko Park"
        ],
        [
         "KA1503000025",
         "Wentworth Ave & 63rd St"
        ],
        [
         "16903",
         "Cicero Ave & Lake St"
        ],
        [
         "527",
         "Western Ave & Howard St"
        ],
        [
         "KA1503000049",
         "Rainbow Beach"
        ],
        [
         "570",
         "Evans Ave & 75th St"
        ],
        [
         "KA1504000114",
         "Kedzie Ave & Chicago Ave"
        ],
        [
         "KA1503000033",
         "Eberhart Ave & 61st St"
        ],
        [
         "592",
         "Knox Ave & Montrose Ave"
        ],
        [
         "KA1504000126",
         "Kedzie Ave & Leland Ave"
        ],
        [
         "545",
         "Kostner Ave & Adams St"
        ],
        [
         "KA1503000009",
         "Princeton Ave & 47th St"
        ],
        [
         "15585",
         "Budlong Woods Library"
        ],
        [
         "RP-001",
         "Warren Park West"
        ],
        [
         "KA1503000073",
         "MLK Jr Dr & 56th St"
        ],
        [
         "KA1504000113",
         "Sacramento Blvd & Franklin Blvd"
        ],
        [
         "646",
         "State St & 54th St"
        ],
        [
         "TA1308000023",
         "Cottage Grove Ave & 43rd St"
        ],
        [
         "TA1309000053",
         "Cottage Grove Ave & 47th St"
        ],
        [
         "KA1504000096",
         "Sawyer Ave & Irving Park Rd"
        ],
        [
         "15666",
         "California Ave & Lake St"
        ],
        [
         "16920",
         "Central Ave & Chicago Ave"
        ],
        [
         "15449",
         "State St & Pershing Rd"
        ],
        [
         "KA1503000023",
         "Stony Island Ave & 67th St"
        ],
        [
         "583",
         "Stony Island Ave & 82nd St"
        ],
        [
         "KA1503000024",
         "Yates Blvd & 75th St"
        ],
        [
         "TA1309000051",
         "Commercial Ave & 83rd St"
        ],
        [
         "KA1503000021",
         "Stony Island Ave & 64th St"
        ],
        [
         "16907",
         "Central Park Blvd & 5th Ave"
        ],
        [
         "16806",
         "Bosworth Ave & Howard St"
        ],
        [
         "16991",
         "Milwaukee Ave & Cuyler Ave"
        ],
        [
         "KA1503000010",
         "Halsted St & 51st St"
        ],
        [
         "KA1503000046",
         "Dorchester Ave & 63rd St"
        ],
        [
         "KA1504000141",
         "Pulaski Rd & Eddy St (Temp)"
        ],
        [
         "KA1504000130",
         "Maplewood Ave & Peterson Ave"
        ],
        [
         "RP-006",
         "Ridge Blvd & Touhy Ave"
        ],
        [
         "13083",
         "Indiana Ave & 40th St"
        ],
        [
         "518",
         "Conservatory Dr & Lake St"
        ],
        [
         "20210",
         "State St & 123rd St"
        ],
        [
         "20206",
         "Homewood Ave & 115th St"
        ],
        [
         "20131",
         "Cottage Grove Ave & 111th Pl"
        ],
        [
         "20229",
         "Baltimore Ave & 87th St"
        ],
        [
         "528",
         "Pulaski Rd & Lake St"
        ],
        [
         "RP-002",
         "Warren Park East"
        ],
        [
         "573",
         "State St & 79th St"
        ],
        [
         "KA1503000031",
         "Cottage Grove Ave & 67th St"
        ],
        [
         "20109",
         "Vernon Ave & 107th St"
        ],
        [
         "KA1503000051",
         "Halsted St & 47th Pl"
        ],
        [
         "KA1503000030",
         "Jeffery Blvd & 67th St"
        ],
        [
         "15687",
         "Central Park Ave & 24th St"
        ],
        [
         "20223",
         "Ewing Ave & Burnham Greenway"
        ],
        [
         "KA1503000003",
         "Cottage Grove Ave & 71st St"
        ],
        [
         "20252.0",
         "W Oakdale Ave & N Broadway"
        ],
        [
         "649",
         "Stewart Ave & 63rd St"
        ],
        [
         "20214",
         "Avenue O & 134th St"
        ],
        [
         "TA1307000161",
         "Halsted St & 37th St"
        ],
        [
         "20104",
         "State St & 95th St"
        ],
        [
         "20247.0",
         "W Washington Blvd & N Peoria St"
        ],
        [
         "662",
         "Dodge Ave & Mulford St"
        ],
        [
         "20119",
         "Elizabeth St & 92nd St"
        ],
        [
         "20129",
         "Ada St & 113th St"
        ],
        [
         "653",
         "Cornell Dr & Hayes Dr"
        ],
        [
         "KA1503000045",
         "Stony Island Ave & 71st St"
        ],
        [
         "569",
         "Woodlawn Ave & 75th St"
        ],
        [
         "20110",
         "Eberhart Ave & 91st St"
        ],
        [
         "20218",
         "Avenue O & 118th St"
        ],
        [
         "20127",
         "Halsted St & 111th St"
        ],
        [
         "KA1503000055",
         "Halsted & 63rd - Kennedy-King Vaccination Site"
        ],
        [
         "16915",
         "Central Ave & Harrison St"
        ],
        [
         "13080",
         "Hermitage Ave & Polk St"
        ],
        [
         "652",
         "Rhodes Ave & 71st St"
        ],
        [
         "20116",
         "Dauphin Ave & 87th St"
        ],
        [
         "15692",
         "California Ave & 26th St"
        ],
        [
         "534",
         "Karlov Ave & Madison St"
        ],
        [
         "582",
         "Phillips Ave & 83rd St"
        ],
        [
         "20113",
         "Dauphin Ave & 103rd St"
        ],
        [
         "20245",
         "Ashland Ave & 74th St"
        ],
        [
         "KA1504000168",
         "Western & 28th - Velasquez Institute Vaccination Site"
        ],
        [
         "20107",
         "Walden Pkwy & 100th St"
        ],
        [
         "KA1504000086",
         "Kedzie Ave & 24th St"
        ],
        [
         "16970",
         "Bennett Ave & 79th St"
        ],
        [
         "20228",
         "Constance Ave & 95th St"
        ],
        [
         "20123",
         "Western Ave & 104th St"
        ],
        [
         "20101",
         "Summit Ave & 86th St"
        ],
        [
         "KA1503000011",
         "Halsted St & 56th St"
        ],
        [
         "20257.0",
         "N Southport Ave & W Newport Ave"
        ],
        [
         "16937",
         "Ashland Ave & McDowell Ave"
        ],
        [
         "586",
         "MLK Jr Dr & 83rd St"
        ],
        [
         "559",
         "Racine Ave & Garfield Blvd"
        ],
        [
         "20227",
         "Bradley Park"
        ],
        [
         "20230",
         "Clyde Ave & 87th St"
        ],
        [
         "554",
         "Damen Ave & 51st St"
        ],
        [
         "16913",
         "Cicero Ave & Quincy St"
        ],
        [
         "20205",
         "Western Ave & 111th St"
        ],
        [
         "20208",
         "Major Taylor Trail & 124th St"
        ],
        [
         "20106",
         "Chicago State University"
        ],
        [
         "579",
         "Phillips Ave & 79th St"
        ],
        [
         "20233",
         "Halsted St & 78th St"
        ],
        [
         "20204",
         "Kedzie Ave & 110th St"
        ],
        [
         "20235",
         "Greenwood Ave & 91st St"
        ],
        [
         "540",
         "Laramie Ave & Madison St"
        ],
        [
         "20244",
         "Halsted St & 73rd St"
        ],
        [
         "16950",
         "Ashland Ave & 66th St"
        ],
        [
         "16948",
         "Ashland Ave & 63rd St"
        ],
        [
         "537",
         "Kenton Ave & Madison St"
        ],
        [
         "16933",
         "Morgan St & Pershing Rd"
        ],
        [
         "16953",
         "Vincennes Ave & 75th St"
        ],
        [
         "13213",
         "State St & 29th St"
        ],
        [
         "20221",
         "Torrence Ave & 106th St"
        ],
        [
         "567",
         "May St & 69th St"
        ],
        [
         "572",
         "State St & 76th St"
        ],
        [
         "557",
         "Seeley Ave & Garfield Blvd"
        ],
        [
         "574",
         "Vernon Ave & 79th St"
        ],
        [
         "587",
         "Wabash Ave & 83rd St"
        ],
        [
         "651",
         "Michigan Ave & 71st St"
        ],
        [
         "577",
         "Stony Island Ave & South Chicago Ave"
        ],
        [
         "20231",
         "East End Ave & 87th St"
        ],
        [
         "20222",
         "Burnham Greenway & 105th St"
        ],
        [
         "20232",
         "Big Marsh Park"
        ],
        [
         "20256.0",
         "N Sheffield Ave & W Wellington Ave"
        ],
        [
         "20108",
         "Hale Ave & 107th St"
        ],
        [
         "647",
         "Elizabeth St & 59th St"
        ],
        [
         "20203",
         "Lawndale Ave & 111th St"
        ],
        [
         "20242",
         "Houston Ave & 92nd St"
        ],
        [
         "15599",
         "Calumet Ave & 71st St"
        ],
        [
         "20.0",
         "Damen Ave & Wabansia Ave"
        ],
        [
         "15682",
         "Kedzie Ave & Roosevelt Rd"
        ],
        [
         "16940",
         "Ashland Ave & 50th St"
        ],
        [
         "560",
         "Marshfield Ave & 59th St"
        ],
        [
         "15686",
         "Kedzie Ave & 21st St"
        ],
        [
         "20103",
         "Prospect Sq & 91st St"
        ],
        [
         "20124",
         "Vincennes Ave & 104th St"
        ],
        [
         "20234",
         "Ashland Ave & 78th St"
        ],
        [
         "20112",
         "Indiana Ave & 103rd St"
        ],
        [
         "20217",
         "Torrence Ave & 126th Pl"
        ],
        [
         "15597",
         "Halsted St & 69th St"
        ],
        [
         "571",
         "Vernon Ave & 75th St"
        ],
        [
         "561",
         "Damen Ave & 59th St"
        ],
        [
         "20248.0",
         "N Hampden Ct & W Diversey Ave"
        ],
        [
         "20207",
         "Major Taylor Trail & 115th St"
        ],
        [
         "20105",
         "Halsted St & 96th St"
        ],
        [
         "543",
         "Laramie Ave & Gladys Ave"
        ],
        [
         "20246.0",
         "N Green St & W Lake St"
        ],
        [
         "20251.0",
         "N Carpenter St & W Lake St"
        ],
        [
         "20211",
         "Eberhart Ave & 131st St"
        ],
        [
         "20243",
         "Michigan Ave & 114th St"
        ],
        [
         "20213",
         "Commercial Ave & 130th St"
        ],
        [
         "KA1503000053",
         "MLK Jr Dr & 63rd St"
        ],
        [
         "576",
         "Greenwood Ave & 79th St"
        ],
        [
         "549",
         "Marshfield Ave & 44th St"
        ],
        [
         "16912",
         "Cicero Ave & Flournoy St"
        ],
        [
         "KA1503000028",
         "Jeffery Blvd & 76th St"
        ],
        [
         "593",
         "Halsted St & 59th St"
        ],
        [
         "575",
         "Cottage Grove Ave & 78th St"
        ],
        [
         "580",
         "Exchange Ave & 79th St"
        ],
        [
         "16905",
         "Central Ave & Lake St"
        ],
        [
         "562",
         "Racine Ave & 61st St"
        ],
        [
         "16916",
         "Central Ave & Madison St"
        ],
        [
         "20120",
         "Stewart Ave & 83rd St"
        ],
        [
         "20236",
         "Stony Island Ave & 90th St"
        ],
        [
         "20215",
         "Hegewisch Metra Station"
        ],
        [
         "642",
         "Latrobe Ave & Chicago Ave"
        ],
        [
         "16932",
         "Ashland Ave & Pershing Rd"
        ],
        [
         "20118",
         "Eggleston Ave & 92nd St"
        ],
        [
         "20130",
         "Wentworth Ave & 104th St"
        ],
        [
         "16943",
         "Ashland Ave & Garfield Blvd"
        ],
        [
         "20125",
         "Halsted St & 104th St"
        ],
        [
         "202480.0",
         "Hampden Ct & Diversey Ave"
        ],
        [
         "20225",
         "Commercial Ave & 100th St"
        ],
        [
         "588",
         "South Chicago Ave & 83rd St"
        ],
        [
         "20201",
         "Kedzie Ave & 104th St"
        ],
        [
         "556",
         "Throop St & 52nd St"
        ],
        [
         "18025",
         "Carpenter St & 63rd St"
        ],
        [
         "20226",
         "Oglesby Ave & 100th St"
        ],
        [
         "KA1503000001",
         "Shields Ave & 43rd St"
        ],
        [
         "20224",
         "Calumet Park"
        ],
        [
         "20212",
         "Altgeld Gardens"
        ],
        [
         "564",
         "Racine Ave & 65th St"
        ],
        [
         "201022",
         "Loomis St & 89th St"
        ],
        [
         "665",
         "South Chicago Ave & Elliot Ave"
        ],
        [
         "20249.0",
         "N Clark St & W Elm St"
        ],
        [
         "DIVVY 001",
         "WEST CHI-WATSON"
        ],
        [
         "20237",
         "Yates Blvd & 93rd St"
        ],
        [
         "20202",
         "W 103rd St & S Avers Ave"
        ],
        [
         "20133",
         "Woodlawn & 103rd - Olive Harvey Vaccination Site"
        ],
        [
         "20134",
         "Maryland Ave & 104th St"
        ],
        [
         "20999",
         "Lyft Driver Center Private Rack"
        ],
        [
         "20126",
         "S Aberdeen St & W 106th St"
        ],
        [
         "322",
         "Cicero Ave & Grace St"
        ],
        [
         "365.0",
         "Kildare Ave & 26th St"
        ],
        [
         "362.0",
         "Lawndale Ave & 16th St"
        ],
        [
         "366.0",
         "Spaulding Ave & 16th St"
        ],
        [
         "364.0",
         "Homan Ave & Fillmore St"
        ],
        [
         "356",
         "Lavergne & Fullerton"
        ],
        [
         "20220",
         "Avenue L & 114th St"
        ],
        [
         "DIVVY CASSETTE REPAIR MOBILE STATION",
         "DIVVY CASSETTE REPAIR MOBILE STATION"
        ],
        [
         "358",
         "Kilpatrick Ave & Parker Ave"
        ],
        [
         "329.0",
         "Central Park Ave & Douglas Blvd"
        ],
        [
         "316",
         "Lamon Ave & Belmont Ave"
        ],
        [
         "368.0",
         "Tripp Ave & 31st St"
        ],
        [
         "317",
         "Long Ave & Belmont Ave"
        ],
        [
         "353",
         "Meade Ave & Diversey Ave"
        ],
        [
         "313",
         "Long Ave & Belden Ave"
        ],
        [
         "363.0",
         "Tripp Ave & 15th St"
        ],
        [
         "355",
         "Central Ave & Parker Ave"
        ],
        [
         "334.0",
         "Lawndale Ave & 30th St"
        ],
        [
         "324",
         "Meade Ave & Addison St"
        ],
        [
         "360",
         "Kilbourn & Roscoe"
        ],
        [
         "351",
         "Mulligan Ave & Wellington Ave"
        ],
        [
         "354",
         "Parkside Ave & Armitage Ave"
        ],
        [
         "312",
         "Lockwood Ave & Wrightwood Ave"
        ],
        [
         "327",
         "Plainfield & Irving Park"
        ],
        [
         "397",
         "Narragansett Ave & School St"
        ],
        [
         "396",
         "Central Ave & Roscoe St"
        ],
        [
         "398",
         "Long & Irving Park"
        ],
        [
         "330.0",
         "Keeler Ave & Roosevelt Rd"
        ],
        [
         "335.0",
         "Komensky Ave & 31st St"
        ],
        [
         "321",
         "Kostner Ave & Wrightwood Ave"
        ],
        [
         "473",
         "Mason Ave & Belmont Ave"
        ],
        [
         "310",
         "North Ave & New England Ave"
        ],
        [
         "332.0",
         "Harding Ave & 26th St"
        ],
        [
         "331.0",
         "Pulaski Rd & 21st St"
        ],
        [
         "325",
         "Harlem Ave & Grace St"
        ],
        [
         "393",
         "Oketo Ave & Addison St"
        ],
        [
         "319",
         "Roscoe & Harlem"
        ],
        [
         "357",
         "Lamon Ave & Armitage Ave"
        ],
        [
         "352",
         "Sayre & Diversey"
        ],
        [
         "359",
         "Kilbourn & Belden"
        ],
        [
         "320",
         "Orange & Addison"
        ],
        [
         "326",
         "Harlem & Irving Park"
        ],
        [
         "305",
         "Menard Ave & Division St"
        ],
        [
         "384",
         "Kedzie Ave & 52nd St"
        ],
        [
         "394",
         "Panama Ave & Grace St"
        ],
        [
         "308",
         "Major Ave & Bloomingdale Ave"
        ],
        [
         "378",
         "Nordica & Medill"
        ],
        [
         "323",
         "Narragansett & Irving Park"
        ],
        [
         "348",
         "Western Ave & 62nd St"
        ],
        [
         "20114",
         "Doty Ave & 111th St"
        ],
        [
         "314",
         "Narragansett & Wrightwood"
        ],
        [
         "361",
         "Kenosha & Wellington"
        ],
        [
         "341",
         "Archer Ave & 43rd St"
        ],
        [
         "318",
         "Oak Park & Wellington"
        ],
        [
         "309",
         "Narragansett & McLean"
        ],
        [
         "301",
         "Monticello Ave & Chicago Ave"
        ],
        [
         "388",
         "Richmond St & 59th St"
        ],
        [
         "302",
         "Lamon Ave & Chicago Ave"
        ],
        [
         "377",
         "Bloomingdale Ave & Harlem Ave"
        ],
        [
         "337",
         "Hoyne Ave & 34th St"
        ],
        [
         "375",
         "Long Ave & North Ave"
        ],
        [
         "304",
         "Lavergne Ave & Division St"
        ],
        [
         "385",
         "St Louis Ave & Norman Bobbins Ave"
        ],
        [
         "371",
         "Kildare Ave & Chicago Ave"
        ],
        [
         "382",
         "Kedzie Ave & 48th Pl"
        ],
        [
         "389",
         "Maplewood Ave & 59th St"
        ],
        [
         "303",
         "Kildare Ave & Division St"
        ],
        [
         "20260.0",
         "Ping Tom Park (East)"
        ],
        [
         "379",
         "Rockwell St & Archer Ave"
        ],
        [
         "339",
         "Sacramento Ave & Pershing Rd"
        ],
        [
         "338",
         "California Ave & 36th St"
        ],
        [
         "307",
         "Leamington Ave & Hirsch St"
        ],
        [
         "445",
         "Western Ave & Gunnison St"
        ],
        [
         "386",
         "Rockwell St & 57th St"
        ],
        [
         "471",
         "Damen Ave & 33rd St"
        ],
        [
         "403",
         "Kildare Ave & 55th St"
        ],
        [
         "20255.0",
         "N Damen Ave & W Chicago Ave"
        ],
        [
         "406",
         "Kostner Ave & 63rd St"
        ],
        [
         "344",
         "Springfield Ave & 47th St"
        ],
        [
         "343",
         "Pulaski Rd & 51st St"
        ],
        [
         "399",
         "Lavergne Ave & 46th St"
        ],
        [
         "380",
         "Fairfield Ave & 44th St"
        ],
        [
         "407",
         "Tripp Ave & 65th St"
        ],
        [
         "20209",
         "S Michigan Ave & E 118th St"
        ],
        [
         "430",
         "Troy St & Grace St"
        ],
        [
         "404",
         "Pulaski Rd & 60th St"
        ],
        [
         "347",
         "Komensky Ave & 55th St"
        ],
        [
         "346",
         "Kedzie Ave & 57th St"
        ],
        [
         "370",
         "Central Park & Augusta Blvd"
        ],
        [
         "400",
         "Lawler Ave & 50th St"
        ],
        [
         "369",
         "Central Park Ave & Ohio St"
        ],
        [
         "434",
         "Albany Ave & Belmont Ave"
        ],
        [
         "428",
         "Milwaukee Ave & Fullerton Ave"
        ],
        [
         "349",
         "Spaulding Ave & 63rd St"
        ],
        [
         "345",
         "Artesian Ave & 55th St"
        ],
        [
         "340",
         "Pulaski & Ann Lurie Pl"
        ],
        [
         "20240",
         "Indiana Ave & 133rd St"
        ],
        [
         "442",
         "Lincoln Ave & Balmoral Ave"
        ],
        [
         "402",
         "Kenneth Ave & 50th St"
        ],
        [
         "20128",
         "S Wentworth Ave & W 111th St"
        ],
        [
         "374",
         "Kilpatrick Ave & Grand Ave"
        ],
        [
         "443",
         "California Ave & Winona St"
        ],
        [
         "475",
         "Whipple/Irving Park"
        ],
        [
         "431",
         "Western Ave & Grace St"
        ],
        [
         "435",
         "Rockwell St & Fletcher St"
        ],
        [
         "458",
         "Washtenaw Ave & Peterson Ave"
        ],
        [
         "472",
         "Elston Ave & George St"
        ],
        [
         "462",
         "Lincoln Ave & Peterson Ave"
        ],
        [
         "429",
         "Francisco Ave & Bloomingdale Ave"
        ],
        [
         "444",
         "N Shore Channel Trail & Argyle Ave"
        ],
        [
         "436",
         "Kedzie Ave & George St"
        ],
        [
         "401",
         "Kildare Ave & 47th St"
        ],
        [
         "373",
         "Augusta Blvd & Laramie Ave"
        ],
        [
         "387",
         "St Louis Ave & 59th St"
        ],
        [
         "425",
         "Rockwell St & Cermak Rd"
        ],
        [
         "446",
         "Francisco Ave & Montrose Ave"
        ],
        [
         "441",
         "Virginia Ave & Catalpa Ave"
        ],
        [
         "390",
         "California Ave & Marquette Rd"
        ],
        [
         "452",
         "Richmond St & Lincoln Ave"
        ],
        [
         "419",
         "Sacramento Blvd & Polk St"
        ],
        [
         "350",
         "Hamlin Ave & 62nd Pl"
        ],
        [
         "433",
         "Elston Ave & Henderson St"
        ],
        [
         "Throop/Hastings Mobile Station",
         "Throop/Hastings Mobile Station"
        ],
        [
         "376",
         "Menard Ave & North Ave"
        ],
        [
         "424",
         "Sacramento Ave & 25th St"
        ],
        [
         "464",
         "Western Ave & Ardmore Ave"
        ],
        [
         "432",
         "Sacramento Blvd & Addison St"
        ],
        [
         "20102",
         "Loomis St & 89th St"
        ],
        [
         "460",
         "Francisco Ave & Hollywood Ave"
        ],
        [
         "466",
         "California Ave & 29th St"
        ],
        [
         "21544",
         "State St & Chicago Ave"
        ],
        [
         "418",
         "Mozart St & Jackson Blvd"
        ],
        [
         "415",
         "Western Ave & Lake St"
        ],
        [
         "416",
         "Washtenaw Ave & Madison St"
        ],
        [
         "381",
         "Francisco Ave & 47th St"
        ],
        [
         "414",
         "Sacramento Blvd & Fulton Ave"
        ],
        [
         "20111",
         "Olive Harvey College"
        ],
        [
         "383",
         "Campbell Ave & 51st St"
        ],
        [
         "342",
         "Kedzie Ave & 45th St"
        ],
        [
         "Pawel Bialowas - Test- PBSC charging station",
         "Pawel Bialowas - Test- PBSC charging station"
        ],
        [
         "Hastings WH 2",
         "Hastings WH 2"
        ],
        [
         "420",
         "Washtenaw Ave & Polk St"
        ],
        [
         "474",
         "Fullerton & Monitor"
        ],
        [
         "Lincoln Ave & Roscoe St - Charging",
         "Lincoln Ave & Roscoe St - Charging"
        ],
        [
         "427",
         "Whipple St & Roosevelt Rd"
        ],
        [
         "20258.0",
         "N Damen Ave & W Wabansia St"
        ],
        [
         "437",
         "Whipple St & Irving Park Rd"
        ]
       ],
       "datasetInfos": [],
       "dbfsResultPath": null,
       "isJsonSchema": true,
       "metadata": {},
       "overflow": false,
       "plotOptions": {
        "customPlotOptions": {},
        "displayType": "table",
        "pivotAggregation": null,
        "pivotColumns": null,
        "xColumns": null,
        "yColumns": null
       },
       "removedWidgets": [],
       "schema": [
        {
         "metadata": "{}",
         "name": "station_id",
         "type": "\"string\""
        },
        {
         "metadata": "{}",
         "name": "name",
         "type": "\"string\""
        }
       ],
       "type": "table"
      }
     },
     "output_type": "display_data"
    }
   ],
   "source": [
    "display(spark.sql(\"SELECT * FROM dim_station\"))"
   ]
  }
 ],
 "metadata": {
  "application/vnd.databricks.v1+notebook": {
   "dashboards": [],
   "language": "python",
   "notebookMetadata": {
    "mostRecentlyExecutedCommandWithImplicitDF": {
     "commandId": 213575049342851,
     "dataframes": [
      "_sqldf"
     ]
    },
    "pythonIndentUnit": 4
   },
   "notebookName": "Transform_dim_station",
   "widgets": {}
  }
 },
 "nbformat": 4,
 "nbformat_minor": 0
}
